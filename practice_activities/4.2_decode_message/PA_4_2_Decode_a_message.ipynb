{
  "cells": [
    {
      "cell_type": "markdown",
      "metadata": {
        "id": "kPj76X_FP2uq"
      },
      "source": [
        "## Setup\n",
        "\n",
        "Run the code below to load the scrambled message:\n"
      ]
    },
    {
      "cell_type": "code",
      "execution_count": 1,
      "metadata": {
        "id": "YwkYMR2qP2ur"
      },
      "outputs": [],
      "source": [
        "import pandas as pd\n",
        "\n",
        "message = pd.read_csv(\"https://www.dropbox.com/s/lgpn3vmksk3ssdo/scrambled_message.txt?dl=1\")['Word']"
      ]
    },
    {
      "cell_type": "code",
      "execution_count": 2,
      "metadata": {
        "colab": {
          "base_uri": "https://localhost:8080/"
        },
        "id": "rqykaCOxF1Z9",
        "outputId": "78651d97-c46b-4c24-b5e9-f67ae6a0ea1c"
      },
      "outputs": [
        {
          "data": {
            "text/plain": [
              "0                    Koila!\n",
              "1                     In   \n",
              "2                     kiew,\n",
              "3                         a\n",
              "4                 humble   \n",
              "               ...         \n",
              "122                     you\n",
              "123                 mabugh.\n",
              "124              ughhh?call\n",
              "125        meugh.ughhhh!   \n",
              "126                      K.\n",
              "Name: Word, Length: 127, dtype: object"
            ]
          },
          "execution_count": null,
          "metadata": {},
          "output_type": "execute_result"
        }
      ],
      "source": [
        "message"
      ]
    },
    {
      "cell_type": "markdown",
      "metadata": {
        "id": "cI8ZE3LAP2us"
      },
      "source": [
        "In this activity, a \"word\" refers to any set of characters with no white space, even though they are not truly an English word.  That is, even though many of elements of the scrambled message vector are nonsense, and some have punctuation, you can consider each element to be a \"word\".\n",
        "\n",
        "Beware!  The object named `message` is a **pandas Series** of strings.  If you want to use functions that expect a string, rather than a series, remember `.apply()` and `lambda` functions.\n",
        "\n"
      ]
    },
    {
      "cell_type": "markdown",
      "metadata": {
        "id": "dYISAD8uQLAy"
      },
      "source": [
        "\n",
        "## Warm-up exercises\n",
        "\n",
        "1. How many characters are in the scrambled message?\n",
        "2. How many of these characters are white space?\n",
        "3. How many words are in the scrambled message?\n",
        "4. Show all the punctuation marks in the scrambled message.\n",
        "5. Print out, in all capitals, the longest word in the scrambled message.\n",
        "6. Print out every piece of a word that starts with the letter \"m\" and ends with the letter \"z\" in the scrambled message."
      ]
    },
    {
      "cell_type": "code",
      "execution_count": 35,
      "metadata": {
        "id": "6vB1tbjiQNvE"
      },
      "outputs": [
        {
          "data": {
            "text/plain": [
              "[]"
            ]
          },
          "execution_count": null,
          "metadata": {},
          "output_type": "execute_result"
        }
      ],
      "source": [
        "#1\n",
        "#compress string list into single string\n",
        "compressed_string = \" \".join(message)\n",
        "len(compressed_string)\n",
        "#2670 characters\n",
        "#remove breaks in message\n",
        "#message_clean = re.split(r\"\\b \", compressed_string)\n",
        "\n",
        "#2\n",
        "#counts number of \" \"\n",
        "compressed_string.count(\" \")\n",
        "#1778 white space\n",
        "\n",
        "#3.\n",
        "#amount of words would be the length of the word list\n",
        "len(message)\n",
        "\n",
        "#4.\n",
        "#print only the punctuation marks in the scrambled messeage\n",
        "import re\n",
        "punctuation = re.findall(r\"[?,.!]\", compressed_string)\n",
        "len(punctuation)\n",
        "\n",
        "#5.\n",
        "#first trim all the extra spaces\n",
        "message_strip = list(map(lambda x: x.strip(), message))\n",
        "#finds longest entry\n",
        "max(message_strip, key=len)\n",
        "\n",
        "#6\n",
        "#prints every word that starts with m and ends with z\n",
        "list(filter(lambda x: re.match(r'^[Mm]\\w*[Zz]$', x, re.IGNORECASE), message_strip))\n"
      ]
    },
    {
      "cell_type": "markdown",
      "metadata": {
        "id": "l3iJnnCJQOh7"
      },
      "source": [
        "\n",
        "\n",
        "## Decode a message\n",
        "\n",
        "Complete the following steps to decode the message.  \n",
        "\n",
        "1. Remove any spaces before or after each word.\n",
        "2. Any time you see the word \"ugh\", with any number of h's, followed by a punctuation mark, delete this.\n",
        "3. No word should be longer than 16 characters. Drop all extra characters beyond 13 off the end of each word.\n",
        "4. Replace all instances of exactly 2 a's with exactly 2 e's.\n",
        "5. Replace all z's with t's.\n",
        "6. Every word that ends in b, change that to a y.  *Hint: look out for punctuation!*\n",
        "7. Every word that starts with k, change that to a v.  *Hint: look out for capitalization!*\n",
        "8. Use `.join()` to recombine all your words into a message.\n",
        "9. Find the movie this quote is from."
      ]
    },
    {
      "cell_type": "code",
      "execution_count": 56,
      "metadata": {
        "id": "RRfjUzxMQQ5j"
      },
      "outputs": [
        {
          "data": {
            "text/plain": [
              "'voila! In view, a humble veteran, cast vicariously as both victim villain by the vicissitudes fate. visage, veneer a vestige of the vox now vacant, However, this valorous visitation of a bygone vexation stands vivified, vowed vanquish these vermin, van guarding and the violently vicious violation of only verdict vengeance; a a votive not in vain, the value veracity such shall vindicate and the virtuous. verily this vichyssoise veers verbose, so let me simply that its my good you you K.'"
            ]
          },
          "execution_count": null,
          "metadata": {},
          "output_type": "execute_result"
        }
      ],
      "source": [
        "#1 removes spaces before/after word\n",
        "#first trim all the extra spaces\n",
        "message_1 = list(map(lambda x: x.strip(), message))\n",
        "\n",
        "#or can use re.split?\n",
        "\n",
        "#2 anytime you see ugh with any h's delete word\n",
        "#finds all of the ones\n",
        "message_2 = list(filter(lambda x: not re.search(r'ugh+', x), message_1))\n",
        "\n",
        "#3. keep up to 13 characters\n",
        "message_3 = list(map(lambda x: x[:12], message_2))\n",
        "\n",
        "#4. replace all aa's with ee's\n",
        "message_4 = list(map(lambda x: x.replace(\"aa\", \"ee\"), message_3))\n",
        "\n",
        "#5. replace all z's with t's\n",
        "message_5 = list(map(lambda x: x.replace(\"z\", \"t\"), message_4))\n",
        "\n",
        "#6 replace all words that end with b to y (look at for punctuation)\n",
        "#refrenced chat GPT\n",
        "#\\b(\\w+)b: A word that starts with word characters, ends with 'b', but does not capture punctuation.\n",
        "#\\W*$: Matches any trailing punctuation and removes it by not capturing it\n",
        "#r'\\1y': Replaces the captured part of the word (without punctuation) by appending 'y' to it.\n",
        "message_6 = list(map(lambda x: re.sub(r'\\b(\\w+)[Bb]\\W*$', r'\\1y', x), message_5))\n",
        "\n",
        "#7 replace all words that start with k to a v (look at for punctuation)\n",
        "#message_7 = list(map(lambda x: re.sub(r\"\\b(\\w+)k\\W*^\", r\"\\1v\", x), message_6))\n",
        "message_7 = list(map(lambda x: re.sub(r'^\\W*[Kk](\\w+)\\b', r\"v\\1\", x), message_6))\n",
        "#8 use .join to recombine all words into message\n",
        "message_8 = \" \".join(message_7)\n",
        "\n",
        "#find movie the quote is from\n",
        "message_8\n",
        "#movie is V for Vendetta!"
      ]
    }
  ],
  "metadata": {
    "colab": {
      "provenance": []
    },
    "kernelspec": {
      "display_name": "Python 3",
      "language": "python",
      "name": "python3"
    },
    "language_info": {
      "name": "python"
    }
  },
  "nbformat": 4,
  "nbformat_minor": 0
}
