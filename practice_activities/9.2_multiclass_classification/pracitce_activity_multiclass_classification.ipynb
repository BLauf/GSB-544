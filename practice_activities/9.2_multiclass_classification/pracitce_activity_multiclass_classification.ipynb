{
 "cells": [
  {
   "cell_type": "code",
   "execution_count": 220,
   "metadata": {},
   "outputs": [],
   "source": [
    "#libraries\n",
    "import pandas as pd\n",
    "import numpy as np\n",
    "from plotnine import ggplot, aes, geom_point, geom_smooth, geom_line, geom_abline\n",
    "from sklearn.pipeline import Pipeline\n",
    "from sklearn.neighbors import KNeighborsClassifier\n",
    "from sklearn.tree import DecisionTreeClassifier\n",
    "from sklearn.linear_model import LogisticRegression\n",
    "import matplotlib.pyplot as plt\n",
    "from sklearn.pipeline import Pipeline\n",
    "from sklearn.compose import make_column_selector, ColumnTransformer\n",
    "from sklearn.preprocessing import StandardScaler, OneHotEncoder, PolynomialFeatures\n",
    "from sklearn.linear_model import LinearRegression, Ridge, Lasso, ElasticNet\n",
    "from sklearn.model_selection import train_test_split, cross_val_score\n",
    "from sklearn.metrics import r2_score\n",
    "from sklearn.model_selection import GridSearchCV\n",
    "from sklearn.neighbors import KNeighborsRegressor\n",
    "from sklearn.tree import DecisionTreeRegressor\n",
    "from sklearn.metrics import mean_squared_error\n",
    "from sklearn.neighbors import KNeighborsClassifier\n",
    "from sklearn.tree import DecisionTreeClassifier\n",
    "from sklearn.metrics import precision_score, recall_score, roc_auc_score, f1_score, classification_report\n",
    "from sklearn.discriminant_analysis import LinearDiscriminantAnalysis\n",
    "from sklearn.svm import SVC\n",
    "from sklearn.tree import plot_tree\n"
   ]
  },
  {
   "cell_type": "code",
   "execution_count": 199,
   "metadata": {},
   "outputs": [],
   "source": [
    "#data\n",
    "ha = pd.read_csv(\"https://www.dropbox.com/s/aohbr6yb9ifmc8w/heart_attack.csv?dl=1\")\n",
    "\n",
    "haOvR = pd.read_csv(\"https://www.dropbox.com/s/aohbr6yb9ifmc8w/heart_attack.csv?dl=1\")\n",
    "\n",
    "haOvO = pd.read_csv(\"https://www.dropbox.com/s/aohbr6yb9ifmc8w/heart_attack.csv?dl=1\")\n",
    "\n"
   ]
  },
  {
   "cell_type": "markdown",
   "metadata": {},
   "source": [
    "\n",
    "Our dataset consists of clinical data from patients who entered the hospital complaining of chest pain (\"angina\") during exercise.  The information collected includes:\n",
    "\n",
    "* `age` : Age of the patient\n",
    "\n",
    "* `sex` : Sex of the patient\n",
    "\n",
    "* `cp` : Chest Pain type\n",
    "\n",
    "    + Value 0: asymptomatic\n",
    "    + Value 1: typical angina\n",
    "    + Value 2: atypical angina\n",
    "    + Value 3: non-anginal pain\n",
    "   \n",
    "    \n",
    "* `trtbps` : resting blood pressure (in mm Hg)\n",
    "\n",
    "* `chol` : cholesterol in mg/dl fetched via BMI sensor\n",
    "\n",
    "* `restecg` : resting electrocardiographic results\n",
    "\n",
    "    + Value 0: normal\n",
    "    + Value 1: having ST-T wave abnormality (T wave inversions and/or ST elevation or depression of > 0.05 mV)\n",
    "    + Value 2: showing probable or definite left ventricular hypertrophy by Estes' criteria\n",
    "\n",
    "* `thalach` : maximum heart rate achieved during exercise\n",
    "\n",
    "* `output` : the doctor's diagnosis of whether the patient is at risk for a heart attack\n",
    "    + 0 = not at risk of heart attack\n",
    "    + 1 = at risk of heart attack"
   ]
  },
  {
   "cell_type": "markdown",
   "metadata": {},
   "source": [
    "## Q1: Natural Multiclass Models\n",
    "\n",
    "Fit a multiclass KNN, Decision Tree, and LDA for the heart disease data; this time predicting the type of chest pain (categories 0 - 3) that a patient experiences.  For the decision tree, plot the fitted tree, and interpret the first couple splits.\n"
   ]
  },
  {
   "cell_type": "code",
   "execution_count": 200,
   "metadata": {},
   "outputs": [],
   "source": [
    "#column transformer\n",
    "ct = ColumnTransformer(\n",
    "  [\n",
    "    (\"dummify\", \n",
    "    #handle_unknown: ignore observations for unknown values in category variable\n",
    "    OneHotEncoder(sparse_output = False, handle_unknown='ignore'),\n",
    "    make_column_selector(dtype_include=object)),\n",
    "    (\"standardize\", \n",
    "    StandardScaler(), \n",
    "    make_column_selector(dtype_include=np.number))\n",
    "  ],\n",
    "  remainder = \"passthrough\"\n",
    ")"
   ]
  },
  {
   "cell_type": "code",
   "execution_count": 201,
   "metadata": {},
   "outputs": [],
   "source": [
    "#knn\n",
    "knn_pipeline = Pipeline([\n",
    "    (\"preprocessing\", ct),\n",
    "    (\"knn_classifier\", KNeighborsClassifier(n_neighbors=7))\n",
    "]).set_output(transform = \"pandas\")"
   ]
  },
  {
   "cell_type": "code",
   "execution_count": 202,
   "metadata": {},
   "outputs": [],
   "source": [
    "#decision tree pipeline\n",
    "decision_tree_pipeline = Pipeline([\n",
    "    (\"preprocessing\", ct),\n",
    "    (\"decision_tree_classifier\", DecisionTreeClassifier())\n",
    "]).set_output(transform = \"pandas\")"
   ]
  },
  {
   "cell_type": "code",
   "execution_count": 203,
   "metadata": {},
   "outputs": [],
   "source": [
    "#LDA\n",
    "lr_pipeline_linear_disc = Pipeline(\n",
    "  [(\"preprocessing\", ct),\n",
    "  (\"linear_disc_regression\", LinearDiscriminantAnalysis())]\n",
    ").set_output(transform=\"pandas\")"
   ]
  },
  {
   "cell_type": "code",
   "execution_count": 204,
   "metadata": {},
   "outputs": [],
   "source": [
    "#variable selection\n",
    "X = ha.drop([\"cp\"], axis = 1)\n",
    "y = ha[\"cp\"]"
   ]
  },
  {
   "cell_type": "code",
   "execution_count": null,
   "metadata": {},
   "outputs": [],
   "source": [
    "#use roc_ovr for testing model accuracy"
   ]
  },
  {
   "cell_type": "code",
   "execution_count": 221,
   "metadata": {},
   "outputs": [
    {
     "data": {
      "text/plain": [
       "[Text(0.6979166666666666, 0.9444444444444444, 'x[5] <= 1.344\\ngini = 0.234\\nsamples = 148\\nvalue = [128, 20]'),\n",
       " Text(0.4513888888888889, 0.8333333333333334, 'x[6] <= 0.392\\ngini = 0.186\\nsamples = 135\\nvalue = [121, 14]'),\n",
       " Text(0.2222222222222222, 0.7222222222222222, 'x[2] <= 1.212\\ngini = 0.098\\nsamples = 97\\nvalue = [92, 5]'),\n",
       " Text(0.08333333333333333, 0.6111111111111112, 'x[4] <= 0.063\\ngini = 0.068\\nsamples = 85\\nvalue = [82, 3]'),\n",
       " Text(0.05555555555555555, 0.5, 'gini = 0.0\\nsamples = 47\\nvalue = [47, 0]'),\n",
       " Text(0.1111111111111111, 0.5, 'x[5] <= -0.48\\ngini = 0.145\\nsamples = 38\\nvalue = [35, 3]'),\n",
       " Text(0.08333333333333333, 0.3888888888888889, 'gini = 0.0\\nsamples = 14\\nvalue = [14, 0]'),\n",
       " Text(0.1388888888888889, 0.3888888888888889, 'x[2] <= -0.025\\ngini = 0.219\\nsamples = 24\\nvalue = [21, 3]'),\n",
       " Text(0.08333333333333333, 0.2777777777777778, 'x[5] <= -0.351\\ngini = 0.105\\nsamples = 18\\nvalue = [17, 1]'),\n",
       " Text(0.05555555555555555, 0.16666666666666666, 'x[0] <= -0.688\\ngini = 0.5\\nsamples = 2\\nvalue = [1, 1]'),\n",
       " Text(0.027777777777777776, 0.05555555555555555, 'gini = 0.0\\nsamples = 1\\nvalue = [0, 1]'),\n",
       " Text(0.08333333333333333, 0.05555555555555555, 'gini = 0.0\\nsamples = 1\\nvalue = [1, 0]'),\n",
       " Text(0.1111111111111111, 0.16666666666666666, 'gini = 0.0\\nsamples = 16\\nvalue = [16, 0]'),\n",
       " Text(0.19444444444444445, 0.2777777777777778, 'x[2] <= 0.19\\ngini = 0.444\\nsamples = 6\\nvalue = [4, 2]'),\n",
       " Text(0.16666666666666666, 0.16666666666666666, 'gini = 0.0\\nsamples = 2\\nvalue = [0, 2]'),\n",
       " Text(0.2222222222222222, 0.16666666666666666, 'gini = 0.0\\nsamples = 4\\nvalue = [4, 0]'),\n",
       " Text(0.3611111111111111, 0.6111111111111112, 'x[5] <= 0.443\\ngini = 0.278\\nsamples = 12\\nvalue = [10, 2]'),\n",
       " Text(0.3055555555555556, 0.5, 'x[2] <= 1.535\\ngini = 0.18\\nsamples = 10\\nvalue = [9, 1]'),\n",
       " Text(0.2777777777777778, 0.3888888888888889, 'x[3] <= 0.611\\ngini = 0.444\\nsamples = 3\\nvalue = [2, 1]'),\n",
       " Text(0.25, 0.2777777777777778, 'gini = 0.0\\nsamples = 1\\nvalue = [0, 1]'),\n",
       " Text(0.3055555555555556, 0.2777777777777778, 'gini = 0.0\\nsamples = 2\\nvalue = [2, 0]'),\n",
       " Text(0.3333333333333333, 0.3888888888888889, 'gini = 0.0\\nsamples = 7\\nvalue = [7, 0]'),\n",
       " Text(0.4166666666666667, 0.5, 'x[3] <= 0.172\\ngini = 0.5\\nsamples = 2\\nvalue = [1, 1]'),\n",
       " Text(0.3888888888888889, 0.3888888888888889, 'gini = 0.0\\nsamples = 1\\nvalue = [1, 0]'),\n",
       " Text(0.4444444444444444, 0.3888888888888889, 'gini = 0.0\\nsamples = 1\\nvalue = [0, 1]'),\n",
       " Text(0.6805555555555556, 0.7222222222222222, 'x[2] <= 0.54\\ngini = 0.361\\nsamples = 38\\nvalue = [29, 9]'),\n",
       " Text(0.5833333333333334, 0.6111111111111112, 'x[0] <= 1.426\\ngini = 0.185\\nsamples = 29\\nvalue = [26, 3]'),\n",
       " Text(0.5277777777777778, 0.5, 'x[3] <= -0.644\\ngini = 0.137\\nsamples = 27\\nvalue = [25, 2]'),\n",
       " Text(0.5, 0.3888888888888889, 'x[4] <= 0.063\\ngini = 0.32\\nsamples = 10\\nvalue = [8, 2]'),\n",
       " Text(0.4722222222222222, 0.2777777777777778, 'x[0] <= -0.923\\ngini = 0.444\\nsamples = 3\\nvalue = [1, 2]'),\n",
       " Text(0.4444444444444444, 0.16666666666666666, 'gini = 0.0\\nsamples = 1\\nvalue = [1, 0]'),\n",
       " Text(0.5, 0.16666666666666666, 'gini = 0.0\\nsamples = 2\\nvalue = [0, 2]'),\n",
       " Text(0.5277777777777778, 0.2777777777777778, 'gini = 0.0\\nsamples = 7\\nvalue = [7, 0]'),\n",
       " Text(0.5555555555555556, 0.3888888888888889, 'gini = 0.0\\nsamples = 17\\nvalue = [17, 0]'),\n",
       " Text(0.6388888888888888, 0.5, 'x[2] <= -0.401\\ngini = 0.5\\nsamples = 2\\nvalue = [1, 1]'),\n",
       " Text(0.6111111111111112, 0.3888888888888889, 'gini = 0.0\\nsamples = 1\\nvalue = [1, 0]'),\n",
       " Text(0.6666666666666666, 0.3888888888888889, 'gini = 0.0\\nsamples = 1\\nvalue = [0, 1]'),\n",
       " Text(0.7777777777777778, 0.6111111111111112, 'x[3] <= 1.111\\ngini = 0.444\\nsamples = 9\\nvalue = [3, 6]'),\n",
       " Text(0.75, 0.5, 'x[0] <= -0.629\\ngini = 0.375\\nsamples = 8\\nvalue = [2, 6]'),\n",
       " Text(0.7222222222222222, 0.3888888888888889, 'gini = 0.0\\nsamples = 1\\nvalue = [1, 0]'),\n",
       " Text(0.7777777777777778, 0.3888888888888889, 'x[5] <= -0.03\\ngini = 0.245\\nsamples = 7\\nvalue = [1, 6]'),\n",
       " Text(0.75, 0.2777777777777778, 'x[5] <= -0.695\\ngini = 0.5\\nsamples = 2\\nvalue = [1, 1]'),\n",
       " Text(0.7222222222222222, 0.16666666666666666, 'gini = 0.0\\nsamples = 1\\nvalue = [0, 1]'),\n",
       " Text(0.7777777777777778, 0.16666666666666666, 'gini = 0.0\\nsamples = 1\\nvalue = [1, 0]'),\n",
       " Text(0.8055555555555556, 0.2777777777777778, 'gini = 0.0\\nsamples = 5\\nvalue = [0, 5]'),\n",
       " Text(0.8055555555555556, 0.5, 'gini = 0.0\\nsamples = 1\\nvalue = [1, 0]'),\n",
       " Text(0.9444444444444444, 0.8333333333333334, 'x[0] <= -0.512\\ngini = 0.497\\nsamples = 13\\nvalue = [7, 6]'),\n",
       " Text(0.9166666666666666, 0.7222222222222222, 'x[0] <= -1.569\\ngini = 0.42\\nsamples = 10\\nvalue = [7, 3]'),\n",
       " Text(0.8888888888888888, 0.6111111111111112, 'x[2] <= -0.24\\ngini = 0.48\\nsamples = 5\\nvalue = [2, 3]'),\n",
       " Text(0.8611111111111112, 0.5, 'gini = 0.0\\nsamples = 2\\nvalue = [0, 2]'),\n",
       " Text(0.9166666666666666, 0.5, 'x[4] <= 0.063\\ngini = 0.444\\nsamples = 3\\nvalue = [2, 1]'),\n",
       " Text(0.8888888888888888, 0.3888888888888889, 'gini = 0.0\\nsamples = 1\\nvalue = [0, 1]'),\n",
       " Text(0.9444444444444444, 0.3888888888888889, 'gini = 0.0\\nsamples = 2\\nvalue = [2, 0]'),\n",
       " Text(0.9444444444444444, 0.6111111111111112, 'gini = 0.0\\nsamples = 5\\nvalue = [5, 0]'),\n",
       " Text(0.9722222222222222, 0.7222222222222222, 'gini = 0.0\\nsamples = 3\\nvalue = [0, 3]')]"
      ]
     },
     "execution_count": null,
     "metadata": {},
     "output_type": "execute_result"
    },
    {
     "data": {
      "image/png": "[encoded data removed]",
      "text/plain": [
       "<Figure size 640x480 with 1 Axes>"
      ]
     },
     "metadata": {},
     "output_type": "display_data"
    }
   ],
   "source": [
    "#fit tree\n",
    "decision_tree_pipeline.fit(X,y)\n",
    "\n",
    "tree = decision_tree_pipeline.named_steps['decision_tree_classifier']\n",
    "\n",
    "plot_tree(tree)"
   ]
  },
  {
   "cell_type": "markdown",
   "metadata": {},
   "source": [
    "## Q2:  OvR\n",
    "\n",
    "Create a new column in the `ha` dataset called `cp_is_3`, which is equal to `1` if the `cp` variable is equal to `3` and `0` otherwise.\n",
    "\n",
    "Then, fit a Logistic Regression to predict this new target, and report the **F1 Score**.\n",
    "\n",
    "Repeat for the other three `cp` categories.  Which category was the OvR approach best at distinguishing?"
   ]
  },
  {
   "cell_type": "code",
   "execution_count": 206,
   "metadata": {},
   "outputs": [],
   "source": [
    "#create new column\n",
    "haOvR['cp_is_0'] = haOvR['cp'] == 0\n",
    "haOvR['cp_is_1'] = haOvR['cp'] == 1\n",
    "haOvR['cp_is_2'] = haOvR['cp'] == 2\n",
    "haOvR['cp_is_3'] = haOvR['cp'] == 3\n",
    "\n",
    "#turn cp_is_3 col to 1s and 0s\n",
    "haOvR['cp_is_0'] = haOvR['cp_is_0'] * 1\n",
    "haOvR['cp_is_1'] = haOvR['cp_is_1'] * 1\n",
    "haOvR['cp_is_2'] = haOvR['cp_is_2'] * 1\n",
    "haOvR['cp_is_3'] = haOvR['cp_is_3'] * 1"
   ]
  },
  {
   "cell_type": "code",
   "execution_count": 207,
   "metadata": {},
   "outputs": [],
   "source": [
    "#logistic pipeline\n",
    "lr_pipeline_logistic = Pipeline(\n",
    "  [(\"preprocessing\", ct),\n",
    "  (\"logistic_regression\", LogisticRegression())]\n",
    ").set_output(transform=\"pandas\")"
   ]
  },
  {
   "cell_type": "code",
   "execution_count": 208,
   "metadata": {},
   "outputs": [
    {
     "data": {
      "text/plain": [
       "0.6525962644949986"
      ]
     },
     "execution_count": null,
     "metadata": {},
     "output_type": "execute_result"
    }
   ],
   "source": [
    "#variable selection, cp = 0\n",
    "X = haOvR.drop([\"cp_is_0\", \"cp_is_1\", \"cp_is_2\", \"cp_is_3\", \"cp\"], axis = 1)\n",
    "y = haOvR[\"cp_is_0\"]\n",
    "\n",
    "#fit pipeline\n",
    "#lr_pipeline_logistic.fit(X,y)\n",
    "\n",
    "scores = cross_val_score(lr_pipeline_logistic, X, y, cv=5, scoring='f1')\n",
    "f1 = scores.mean()\n",
    "f1"
   ]
  },
  {
   "cell_type": "code",
   "execution_count": 209,
   "metadata": {},
   "outputs": [
    {
     "data": {
      "text/plain": [
       "0.0"
      ]
     },
     "execution_count": null,
     "metadata": {},
     "output_type": "execute_result"
    }
   ],
   "source": [
    "#variable selection, cp = 1\n",
    "X = haOvR.drop([\"cp_is_0\", \"cp_is_1\", \"cp_is_2\", \"cp_is_3\", \"cp\"], axis = 1)\n",
    "y = haOvR[\"cp_is_1\"]\n",
    "\n",
    "#fit pipeline\n",
    "#lr_pipeline_logistic.fit(X,y)\n",
    "\n",
    "scores = cross_val_score(lr_pipeline_logistic, X, y, cv=5, scoring='f1')\n",
    "f1 = scores.mean()\n",
    "f1"
   ]
  },
  {
   "cell_type": "code",
   "execution_count": 210,
   "metadata": {},
   "outputs": [
    {
     "data": {
      "text/plain": [
       "0.1393939393939394"
      ]
     },
     "execution_count": null,
     "metadata": {},
     "output_type": "execute_result"
    }
   ],
   "source": [
    "#variable selection, cp = 2\n",
    "X = haOvR.drop([\"cp_is_0\", \"cp_is_1\", \"cp_is_2\", \"cp_is_3\", \"cp\"], axis = 1)\n",
    "y = haOvR[\"cp_is_2\"]\n",
    "\n",
    "#fit pipeline\n",
    "#lr_pipeline_logistic.fit(X,y)\n",
    "\n",
    "scores = cross_val_score(lr_pipeline_logistic, X, y, cv=5, scoring='f1')\n",
    "f1 = scores.mean()\n",
    "f1"
   ]
  },
  {
   "cell_type": "code",
   "execution_count": 211,
   "metadata": {},
   "outputs": [
    {
     "data": {
      "text/plain": [
       "0.0"
      ]
     },
     "execution_count": null,
     "metadata": {},
     "output_type": "execute_result"
    }
   ],
   "source": [
    "#variable selection, cp = 3\n",
    "X = haOvR.drop([\"cp_is_0\", \"cp_is_1\", \"cp_is_2\", \"cp_is_3\", \"cp\"], axis = 1)\n",
    "y = haOvR[\"cp_is_3\"]\n",
    "\n",
    "#fit pipeline\n",
    "#lr_pipeline_logistic.fit(X,y)\n",
    "\n",
    "scores = cross_val_score(lr_pipeline_logistic, X, y, cv=5, scoring='f1')\n",
    "f1 = scores.mean()\n",
    "f1"
   ]
  },
  {
   "cell_type": "markdown",
   "metadata": {},
   "source": [
    "## Q3: OvO\n",
    "\n",
    "Reduce your dataset to only the `0` and `1` types of chest pain.\n",
    "\n",
    "Then, fit a Logistic Regression to predict between the two groups, and report the **ROC-AUC**.  \n",
    "\n",
    "Repeat comparing category `0` to `2` and `3`.  Which pair was the OvO approach best at distinguishing?"
   ]
  },
  {
   "cell_type": "code",
   "execution_count": 212,
   "metadata": {},
   "outputs": [],
   "source": [
    "#just for 0's compare 0 to 1, 0 to 2, and 0 to 3\n",
    "cp_0_1 = haOvO[(haOvO['cp'] == 0) | (haOvO['cp'] == 1)]\n",
    "\n",
    "cp_0_2 = haOvO[(haOvO['cp'] == 0) | (haOvO['cp'] == 2)]\n",
    "\n",
    "cp_0_3 = haOvO[(haOvO['cp'] == 0) | (haOvO['cp'] == 3)]\n",
    "\n",
    "cp_0_4 = haOvO[(haOvO['cp'] == 0) | (haOvO['cp'] == 4)]"
   ]
  },
  {
   "cell_type": "code",
   "execution_count": 213,
   "metadata": {},
   "outputs": [
    {
     "data": {
      "text/plain": [
       "0.8376709401709401"
      ]
     },
     "execution_count": null,
     "metadata": {},
     "output_type": "execute_result"
    }
   ],
   "source": [
    "#variable selection, cp = 0 and 1\n",
    "X = cp_0_1.drop([\"cp\"], axis = 1)\n",
    "y = cp_0_1[\"cp\"]\n",
    "\n",
    "scores = cross_val_score(lr_pipeline_logistic, X, y, cv=5, scoring='roc_auc')\n",
    "roc = scores.mean()\n",
    "roc"
   ]
  },
  {
   "cell_type": "code",
   "execution_count": 214,
   "metadata": {},
   "outputs": [
    {
     "data": {
      "text/plain": [
       "0.7511029411764706"
      ]
     },
     "execution_count": null,
     "metadata": {},
     "output_type": "execute_result"
    }
   ],
   "source": [
    "#variable selection, cp = 0 and 2\n",
    "X = cp_0_2.drop([\"cp\"], axis = 1)\n",
    "y = cp_0_2[\"cp\"]\n",
    "\n",
    "scores = cross_val_score(lr_pipeline_logistic, X, y, cv=5, scoring='roc_auc')\n",
    "roc = scores.mean()\n",
    "roc"
   ]
  },
  {
   "cell_type": "code",
   "execution_count": 215,
   "metadata": {},
   "outputs": [
    {
     "data": {
      "text/plain": [
       "0.7412307692307692"
      ]
     },
     "execution_count": null,
     "metadata": {},
     "output_type": "execute_result"
    }
   ],
   "source": [
    "#variable selection, cp = 0 and 3\n",
    "X = cp_0_3.drop([\"cp\"], axis = 1)\n",
    "y = cp_0_3[\"cp\"]\n",
    "\n",
    "scores = cross_val_score(lr_pipeline_logistic, X, y, cv=5, scoring='roc_auc')\n",
    "roc = scores.mean()\n",
    "roc"
   ]
  },
  {
   "cell_type": "code",
   "execution_count": null,
   "metadata": {},
   "outputs": [],
   "source": [
    "#use roc_auc for binary variable as response"
   ]
  },
  {
   "cell_type": "code",
   "execution_count": null,
   "metadata": {},
   "outputs": [],
   "source": [
    "#micro - metric of the one category that is most important to us and then measure\n",
    "\n",
    "#macro - average of all the micro versions"
   ]
  }
 ],
 "metadata": {
  "language_info": {
   "name": "python"
  }
 },
 "nbformat": 4,
 "nbformat_minor": 2
}
