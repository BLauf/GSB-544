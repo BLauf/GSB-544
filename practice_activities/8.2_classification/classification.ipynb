{
 "cells": [
  {
   "cell_type": "code",
   "execution_count": 23,
   "metadata": {},
   "outputs": [],
   "source": [
    "#libraries\n",
    "from palmerpenguins import load_penguins\n",
    "import pandas as pd\n",
    "import numpy as np\n",
    "import matplotlib.pyplot as plt\n",
    "from sklearn.pipeline import Pipeline\n",
    "from sklearn.compose import make_column_selector, ColumnTransformer\n",
    "from sklearn.preprocessing import StandardScaler, OneHotEncoder, PolynomialFeatures\n",
    "from sklearn.linear_model import LinearRegression, Ridge, Lasso, ElasticNet, LogisticRegression \n",
    "from sklearn.model_selection import train_test_split, cross_val_score\n",
    "from sklearn.metrics import r2_score\n",
    "from sklearn.model_selection import GridSearchCV\n",
    "\n",
    "penguins = load_penguins()\n",
    "penguins.head()\n",
    "\n",
    "#remove NA's from penguins dataset\n",
    "penguins = penguins.dropna()"
   ]
  },
  {
   "cell_type": "code",
   "execution_count": 24,
   "metadata": {},
   "outputs": [],
   "source": [
    "#want pipeline to predict genfoo species\n",
    "\n",
    "#make gentoo column for penguins dataset\n",
    "\n",
    "#true/falses is okay for modeling, multiply by 1 to make integers\n",
    "penguins['is_gentoo'] = (penguins['species'] == 'Gentoo') * 1\n"
   ]
  },
  {
   "cell_type": "markdown",
   "metadata": {},
   "source": [
    "Use the other variables in the dataset and a logistic regression model to classify penguins as either “Gentoo” or “Not”. What is your training accuracy?"
   ]
  },
  {
   "cell_type": "code",
   "execution_count": 33,
   "metadata": {},
   "outputs": [],
   "source": [
    "#pipeline\n",
    "\n",
    "\n",
    "#Create a pipeline that includes all the columns as predictors for Salary, and performs ordinary linear regression\n",
    "\n",
    "#X = penguins.drop([\"is_gentoo\", \"species\"], axis = 1)\n",
    "X = penguins[[\"bill_depth_mm\", \"sex\"]]\n",
    "y = penguins[\"is_gentoo\"]\n",
    "\n",
    "\n",
    "ct = ColumnTransformer(\n",
    "  [\n",
    "    (\"dummify\", \n",
    "    #handle_unknown: ignore observations for unknown values in category variable\n",
    "    OneHotEncoder(sparse_output = False, handle_unknown='ignore'),\n",
    "    make_column_selector(dtype_include=object)),\n",
    "    (\"standardize\", \n",
    "    StandardScaler(), \n",
    "    make_column_selector(dtype_include=np.number))\n",
    "  ],\n",
    "  remainder = \"passthrough\"\n",
    ")\n",
    "\n",
    "lr_pipeline_logistic = Pipeline(\n",
    "  [(\"preprocessing\", ct),\n",
    "  (\"logistic_regression\", LogisticRegression())]\n",
    ").set_output(transform=\"pandas\")"
   ]
  },
  {
   "cell_type": "code",
   "execution_count": 37,
   "metadata": {},
   "outputs": [
    {
     "name": "stdout",
     "output_type": "stream",
     "text": [
      "r2:  0.9336282440175261  accuracy:  0.9848937132519222\n",
      "r2:  0.9336282440175261  accuracy:  0.9848937132519222\n"
     ]
    }
   ],
   "source": [
    "#Use cross-validation to estimate the MSE you would expect if you used this pipeline to predict 1989 salaries.\n",
    "\n",
    "#score how well the model did\n",
    "#R^2\n",
    "scores = cross_val_score(lr_pipeline_logistic, X, y, cv=5, scoring='r2')\n",
    "r2 = scores.mean()\n",
    "\n",
    "#MSE\n",
    "scores = cross_val_score(lr_pipeline_logistic, X, y, cv=5, scoring='accuracy')\n",
    "accuracy = scores.mean()\n",
    "\n",
    "print(\"r2: \", r2, \" accuracy: \", accuracy)"
   ]
  },
  {
   "cell_type": "markdown",
   "metadata": {},
   "source": [
    "Let's use the other variables to predict species. Prepare your data and fit the following models on the entire dataset:\n",
    "\n",
    "- Two kNN models (for different values of K)\n",
    "- Two decision tree models (for different complexities of trees)\n",
    "\n",
    "Compute the following, for each of your models, on test data. Keep in mind that you may need to stratify your creation of the training and test data.\n",
    "\n",
    "Confusion matrix\n",
    "- Overall Accuracy\n",
    "- Precision, Recall, AUC, and F1-score for each species\n",
    "- Create one ROC plot for the species of your choice."
   ]
  }
 ],
 "metadata": {
  "language_info": {
   "name": "python"
  }
 },
 "nbformat": 4,
 "nbformat_minor": 2
}
