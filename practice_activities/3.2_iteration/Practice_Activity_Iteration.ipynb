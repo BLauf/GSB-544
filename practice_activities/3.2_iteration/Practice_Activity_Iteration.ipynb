{
  "cells": [
    {
      "cell_type": "markdown",
      "metadata": {
        "id": "8p1mF9p_njvq"
      },
      "source": [
        "0. Load the `penguins` dataset from the `palmerpenguins` library, as well as any other libraries you need.\n",
        "\n"
      ]
    },
    {
      "cell_type": "code",
      "execution_count": 4,
      "metadata": {
        "id": "B0wyLoBRngwh"
      },
      "outputs": [],
      "source": [
        "import pandas as pd\n",
        "import numpy as np\n",
        "\n",
        "#!pip install palmerpenguins\n",
        "from palmerpenguins import load_penguins\n",
        "\n",
        "\n",
        "#read in penguin dataset\n",
        "penguins = load_penguins()"
      ]
    },
    {
      "cell_type": "markdown",
      "metadata": {
        "id": "LUURcsjcnrA3"
      },
      "source": [
        "1. Write a function that takes in information about a penguin, and returns one of the following definitions:\n",
        "\n",
        "*   \"Big Mouth Billy\": Male penguins with bill length times bill depth greater than 800.\n",
        "*   \"Dainty Daisy\": Female penguins with flipper length less than 5% of body mass.\n",
        "*   \"Average Adelie:\" Any Adelie penguins that do not fall into either category.\n",
        "*   \"Other\": Any penguins that do not fall into any of the categories.\n",
        "\n"
      ]
    },
    {
      "cell_type": "code",
      "execution_count": 24,
      "metadata": {
        "id": "udKVPIJmpKG_"
      },
      "outputs": [],
      "source": [
        "#Couldnt get this one to work.\n",
        "\n",
        "#takes in a single penguin observation\n",
        "def penguin_class(species, sex, bill_length, bill_depth, flipper_length, body_mass):\n",
        "\n",
        "    \"\"\"\n",
        "    Classifies a penguin based on its attributes.\n",
        "\n",
        "    Parameters:\n",
        "                    - 'species'\n",
        "                    - 'sex'\n",
        "                    - 'bill_length_mm'\n",
        "                    - 'bill_depth_mm'\n",
        "                    - 'flipper_length_mm'\n",
        "                    - 'body_mass_g'\n",
        "\n",
        "    Returns:\n",
        "    string: Classification of the penguin (\"Big Mouth Billy\", \"Dainty Daisy\", \n",
        "            \"Average Adelie\", or \"Other\")\n",
        "    \"\"\"\n",
        "\n",
        "    #checks if Big Mouth Billy\n",
        "    if sex == 'male' and (bill_length * bill_depth) > 800:\n",
        "        return \"Big Mouth Billy\"\n",
        "\n",
        "    #checks for Dainty Daisy\n",
        "    elif sex == 'female' and (flipper_length) < (body_mass * .05):\n",
        "        return \"Dainty Daisy\"\n",
        "\n",
        "    #checks for Average Adelie\n",
        "    elif species == 'Adelie' and not (sex == 'Male' and (bill_length * bill_depth) > 800) and not (sex == 'Female' and flipper_length < (0.05 * body_mass)):\n",
        "        return \"Average Adelie\"\n",
        "\n",
        "    #returns other if its nothing\n",
        "    return \"Other\""
      ]
    },
    {
      "cell_type": "code",
      "execution_count": null,
      "metadata": {},
      "outputs": [],
      "source": [
        "penguins.apply(lambda x: penguin_class(x['species'], x['sex'], x['bill_length_mm'], x['bill_depth_mm'], x['flipper_length_mm'], x['body_mass_g']), axis = 1)\n"
      ]
    },
    {
      "cell_type": "code",
      "execution_count": 42,
      "metadata": {},
      "outputs": [],
      "source": [
        "#this function works\n",
        "\n",
        "#takes in a single penguin observation\n",
        "def penguin_class(penguin):\n",
        "\n",
        "    \"\"\"\n",
        "    Classifies a penguin based on its attributes.\n",
        "\n",
        "    Parameters:\n",
        "    penguin (dict): A dictionary containing the following keys:\n",
        "                    - 'species'\n",
        "                    - 'sex'\n",
        "                    - 'bill_length_mm'\n",
        "                    - 'bill_depth_mm'\n",
        "                    - 'flipper_length_mm'\n",
        "                    - 'body_mass_g'\n",
        "\n",
        "    Returns:\n",
        "    string: Classification of the penguin (\"Big Mouth Billy\", \"Dainty Daisy\", \n",
        "            \"Average Adelie\", or \"Other\")\n",
        "    \"\"\"\n",
        "\n",
        "    #assigns all variables based on observation given\n",
        "    species = penguin['species']\n",
        "    sex = penguin['sex']\n",
        "    bill_length = penguin['bill_length_mm']\n",
        "    bill_depth = penguin['bill_depth_mm']\n",
        "    flipper_length = penguin['flipper_length_mm']\n",
        "    body_mass = penguin['body_mass_g']\n",
        "\n",
        "    #checks if Big Mouth Billy\n",
        "    if sex == 'male' and (bill_length * bill_depth) > 800:\n",
        "        return \"Big Mouth Billy\"\n",
        "\n",
        "    #checks for Dainty Daisy\n",
        "    elif sex == 'female' and (flipper_length) < (body_mass * .05):\n",
        "        return \"Dainty Daisy\"\n",
        "\n",
        "    #checks for Average Adelie\n",
        "    elif species == 'Adelie' and not (sex == 'Male' and (bill_length * bill_depth) > 800) and not (sex == 'Female' and flipper_length < (0.05 * body_mass)):\n",
        "        return \"Average Adelie\"\n",
        "\n",
        "    #returns other if its nothing\n",
        "    return \"Other\""
      ]
    },
    {
      "cell_type": "markdown",
      "metadata": {
        "id": "L3cOiPwJo_q5"
      },
      "source": [
        "2. Use an iterable function to create a new variable called `category_name` that adds these labels."
      ]
    },
    {
      "cell_type": "code",
      "execution_count": 43,
      "metadata": {
        "id": "AJk_DHBDpKvV"
      },
      "outputs": [],
      "source": [
        "#category_name = map(penguin_class_v2, penguins)\n",
        "\n",
        "penguins['category_name'] = penguins.apply(penguin_class, axis=1)\n",
        "#list(category_name)\n",
        "#print(\"\".join(list(category_name)))"
      ]
    },
    {
      "cell_type": "markdown",
      "metadata": {
        "id": "wzjur3hzpLxr"
      },
      "source": [
        "3. Run the following code to find the counts for each type."
      ]
    },
    {
      "cell_type": "code",
      "execution_count": 44,
      "metadata": {
        "id": "iDHDAKOXpPOm"
      },
      "outputs": [
        {
          "data": {
            "text/plain": [
              "category_name\n",
              "Average Adelie     127\n",
              "Other               84\n",
              "Big Mouth Billy     71\n",
              "Dainty Daisy        62\n",
              "Name: count, dtype: int64"
            ]
          },
          "execution_count": null,
          "metadata": {},
          "output_type": "execute_result"
        }
      ],
      "source": [
        "penguins.value_counts(\"category_name\")"
      ]
    }
  ],
  "metadata": {
    "colab": {
      "provenance": []
    },
    "kernelspec": {
      "display_name": "Python 3",
      "name": "python3"
    },
    "language_info": {
      "name": "python"
    }
  },
  "nbformat": 4,
  "nbformat_minor": 0
}
