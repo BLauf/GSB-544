{
  "cells": [
    {
      "cell_type": "markdown",
      "metadata": {
        "id": "qrJX4FDa8oA8"
      },
      "source": [
        "# XML, HTML, and Web Scraping\n",
        "\n",
        "JSON and XML are two different ways to represent hierarchical data. Which one is better? There are lots of articles online which discuss similarities and differences between JSON and XML and their advantages and disadvantages. Both formats are still in current usage, so it is good to be familiar with both. However, JSON is more common, so we'll focus on working with JSON representations of hierarchical data.\n",
        "\n",
        "The reading covered an example of using Beautiful Soup to parse XML. Rather than doing another example XML now, we'll skip straight to scraping HTML from a webpage. Both HTML and XML can be parsed in a similar way with Beautiful Soup."
      ]
    },
    {
      "cell_type": "code",
      "execution_count": 2,
      "metadata": {
        "id": "XZhT8jhbuZSg"
      },
      "outputs": [],
      "source": [
        "import pandas as pd"
      ]
    },
    {
      "cell_type": "markdown",
      "metadata": {
        "id": "ApqnMQ4iV4qu"
      },
      "source": [
        "## Scraping an HTML table with Beautiful Soup"
      ]
    },
    {
      "cell_type": "markdown",
      "metadata": {
        "id": "9SD7XOs_So3G"
      },
      "source": [
        "Open the URL https://en.wikipedia.org/wiki/List_of_United_States_cities_by_population and scroll down until you see a table of the cities in the U.S. with population over 100,000 (as of Jul 1, 2022). We'll use Beautiful Soup to scrape information from this table."
      ]
    },
    {
      "cell_type": "markdown",
      "metadata": {
        "id": "HRmnzgaQS_T0"
      },
      "source": [
        "Read in the HTML from the ULR using the `requests` library."
      ]
    },
    {
      "cell_type": "code",
      "execution_count": 14,
      "metadata": {
        "id": "xvYzbSospYVu"
      },
      "outputs": [],
      "source": [
        "# YOUR CODE HERE\n",
        "import requests\n",
        "response = requests.get(\"https://en.wikipedia.org/wiki/List_of_United_States_cities_by_population\")"
      ]
    },
    {
      "cell_type": "markdown",
      "metadata": {
        "id": "YJ1Swg6B82_J"
      },
      "source": [
        "Use Beautiful Soup to parse this string into a tree called `soup`"
      ]
    },
    {
      "cell_type": "code",
      "execution_count": 15,
      "metadata": {
        "id": "e0jpmfwtpaEB"
      },
      "outputs": [],
      "source": [
        "# YOUR CODE HERE\n",
        "from bs4 import BeautifulSoup\n",
        "soup = BeautifulSoup(response.content, \"html.parser\")"
      ]
    },
    {
      "cell_type": "markdown",
      "metadata": {
        "id": "lFxGW_KIDjnx"
      },
      "source": [
        "To find an HTML tag corresponding to a specific element on a webpage, right-click on it and choose \"Inspect element\". Go to the cities table Wikipedia page and do this now.\n",
        "\n",
        "You should find that the cities table on the Wikipedia page corresponds to the element\n",
        "\n",
        "```\n",
        "<table class=\"wikitable sortable jquery-tablesorter\" style=\"text-align:center\">\n",
        "```"
      ]
    },
    {
      "cell_type": "markdown",
      "metadata": {
        "id": "DR50aTBZEwov"
      },
      "source": [
        "There are many `<table>` tags on the page."
      ]
    },
    {
      "cell_type": "code",
      "execution_count": 33,
      "metadata": {
        "id": "4691d-EGEwc0"
      },
      "outputs": [],
      "source": [
        "tables = soup.find_all(\"table\")\n",
        "\n",
        "#by looking at html i think its table 3 \n",
        "table = tables[2]"
      ]
    },
    {
      "cell_type": "markdown",
      "metadata": {
        "id": "H1xslM2yE1GI"
      },
      "source": [
        "We can use attributes like `class=` and `style=` to narrow down the list."
      ]
    },
    {
      "cell_type": "code",
      "execution_count": 30,
      "metadata": {
        "id": "E0Q0sa46DvTZ"
      },
      "outputs": [],
      "source": [
        "len(soup.find_all(\"table\",\n",
        "                  attrs={\n",
        "                      \"class\": \"wikitable sortable\",\n",
        "                      \"style\": \"text-align:center\"}\n",
        "                  ))\n",
        "\n",
        "                  #code doesn't work\n",
        "\n",
        "                  "
      ]
    },
    {
      "cell_type": "markdown",
      "metadata": {
        "id": "ndnRSJJiFFby"
      },
      "source": [
        "At this point, you can manually inspect the tables on the webpage to find that the one we want is the first one (see `[0]` below). We'll store this as `table`."
      ]
    },
    {
      "cell_type": "code",
      "execution_count": 18,
      "metadata": {
        "id": "sRBSqVGlYhuT"
      },
      "outputs": [
        {
          "ename": "IndexError",
          "evalue": "list index out of range",
          "output_type": "error",
          "traceback": [
            "\u001b[0;31m---------------------------------------------------------------------------\u001b[0m\n",
            "\u001b[0;31mIndexError\u001b[0m                                Traceback (most recent call last)\n",
            "Cell \u001b[0;32mIn[18], line 1\u001b[0m\n",
            "\u001b[0;32m----> 1\u001b[0m table \u001b[38;5;241m=\u001b[39m soup\u001b[38;5;241m.\u001b[39mfind_all(\u001b[38;5;124m\"\u001b[39m\u001b[38;5;124mtable\u001b[39m\u001b[38;5;124m\"\u001b[39m,\n",
            "\u001b[1;32m      2\u001b[0m                   attrs\u001b[38;5;241m=\u001b[39m{\n",
            "\u001b[1;32m      3\u001b[0m                       \u001b[38;5;124m\"\u001b[39m\u001b[38;5;124mclass\u001b[39m\u001b[38;5;124m\"\u001b[39m: \u001b[38;5;124m\"\u001b[39m\u001b[38;5;124mwikitable sortable\u001b[39m\u001b[38;5;124m\"\u001b[39m,\n",
            "\u001b[1;32m      4\u001b[0m                       \u001b[38;5;124m\"\u001b[39m\u001b[38;5;124mstyle\u001b[39m\u001b[38;5;124m\"\u001b[39m: \u001b[38;5;124m\"\u001b[39m\u001b[38;5;124mtext-align:center\u001b[39m\u001b[38;5;124m\"\u001b[39m}\n",
            "\u001b[1;32m      5\u001b[0m                   )[\u001b[38;5;241m0\u001b[39m]\n",
            "\n",
            "\u001b[0;31mIndexError\u001b[0m: list index out of range"
          ]
        }
      ],
      "source": [
        "table = soup.find_all(\"table\",\n",
        "                  attrs={\n",
        "                      \"class\": \"wikitable sortable\",\n",
        "                      \"style\": \"text-align:center\"}\n",
        "                  )[0]\n",
        "\n",
        "                  #code doesn't work"
      ]
    },
    {
      "cell_type": "markdown",
      "metadata": {
        "id": "j4AWo3QoYqNY"
      },
      "source": [
        "**Now you will write code to scrape the information in `table` to create a Pandas data frame with one row for each city and columns for: city, state, population (2022 estimate), and 2020 land area (sq mi).** Refer to the Notes/suggestions below as you write your code. A few Hints are provided further down, but try coding first before looking at the hints."
      ]
    },
    {
      "cell_type": "markdown",
      "metadata": {
        "id": "KfRx2_XlDUqD"
      },
      "source": [
        "Notes/suggestions:\n",
        "\n",
        "- Use as a guide the code from the reading that produced the data frame of Statistics faculty\n",
        "- Inspect the page source as you write your code\n",
        "- You will need to write a loop to get the information for all cities, but you might want to try just scraping the info for New York first\n",
        "- You will need to pull the text from the tag. If `.text` returns text with \"\\n\" at the end, try `.get_text(strip = True)` instead of `.text`\n",
        "- Don't forget to convert to a Pandas Data Frame; it should have 333 rows and 4 columns\n",
        "- The goal of this exercise is just to create the Data Frame. If you were going to use it --- e.g., what is the population density for all cities in CA? --- then you would need to clean the data first (to clean strings and convert to quantitative). (You can use Beautiful Soup to do some of the cleaning for you, but that goes beyond our scope.)"
      ]
    },
    {
      "cell_type": "code",
      "execution_count": null,
      "metadata": {
        "id": "msKiUcOZpSX7"
      },
      "outputs": [],
      "source": [
        "# YOUR CODE HERE. ADD AS MANY CELLS AS NEEDED"
      ]
    },
    {
      "cell_type": "code",
      "execution_count": 64,
      "metadata": {
        "id": "1M23w-PPtUyw"
      },
      "outputs": [],
      "source": [
        "#turn html into actual dataframe\n",
        "\n",
        "# initialize an empty list\n",
        "rows = []\n",
        "\n",
        "# iterate over all rows in the city table\n",
        "for city in table.find_all(\"tr\")[2:]:\n",
        "\n",
        "    # Get all the cells (<td>) in the row.\n",
        "    cells = city.find_all(\"td\")\n",
        "\n",
        "    # The information we need is the text between tags.\n",
        "\n",
        "    # Find the the name of the city in cell[0]\n",
        "    # which for most city is contained in the <a> tag\n",
        "    city_tag = cells[0].find(\"a\") or cells[0]\n",
        "    city = city_tag.text\n",
        "\n",
        "    # Find the office of the faculty in cell[1]\n",
        "    # which for most faculty is contained in the <a> tag\n",
        "    state_tag = cells[1].find(\"a\") or cells[1]\n",
        "    state = state_tag.text\n",
        "\n",
        "    # Find the email of the faculty in cell[3]\n",
        "    # which for most faculty is contained in the <a> tag\n",
        "    estimate_2023_tag = cells[2].find(\"td\") or cells[2]\n",
        "    estimate_2023 = estimate_2023_tag.text\n",
        "\n",
        "    census_2020_tag = cells[3].find(\"td\") or cells[3]\n",
        "    census_2020 = census_2020_tag.text\n",
        "\n",
        "    change_tag = cells[4].find(\"td\") or cells[4]\n",
        "    change = change_tag.text\n",
        "\n",
        "    land_area_miles_squared_tag = cells[5].find(\"td\") or cells[5]\n",
        "    land_area_miles_squared = land_area_miles_squared_tag.text\n",
        "\n",
        "    land_area_kilometer_squared_tag = cells[6].find(\"td\") or cells[6]\n",
        "    land_area_kilometer_squared = land_area_kilometer_squared_tag.text\n",
        "\n",
        "    density_miles_squared_tag = cells[7].find(\"td\") or cells[7]\n",
        "    density_miles_squared = density_miles_squared_tag.text\n",
        "\n",
        "    density_kilometer_squared_tag = cells[8].find(\"td\") or cells[8]\n",
        "    density_kilometer_squared = density_kilometer_squared_tag.text\n",
        "\n",
        "    location_tag = cells[9].find(\"small\") or cells[9]\n",
        "    location = location_tag.text\n",
        "\n",
        "    # Append this data.\n",
        "    rows.append({\n",
        "        \"city\": city,\n",
        "        \"state\": state,\n",
        "        \"2023 estimate\": estimate_2023,\n",
        "        \"2023 census\": census_2020,\n",
        "        \"Change\": change,\n",
        "        \"land area (miles^2)\": land_area_miles_squared,\n",
        "        \"landarea (kilometer^2)\": land_area_kilometer_squared,\n",
        "        \"density (miles^2)\": density_miles_squared,\n",
        "        \"density (kilometer^2)\": density_kilometer_squared,\n",
        "        \"location\": location\n",
        "    })\n"
      ]
    },
    {
      "cell_type": "code",
      "execution_count": null,
      "metadata": {},
      "outputs": [],
      "source": [
        "pd.DataFrame(rows)"
      ]
    },
    {
      "cell_type": "markdown",
      "metadata": {
        "id": "6s3tH82XZ1X0"
      },
      "source": [
        "Hints:\n",
        "\n",
        "- Each city is a row in the table; find all the `<tr>` tags to find all the cities\n",
        "- Look for the `<td>` tag to see table entries within a row\n",
        "- The rank column is represented by `<th>` tags, rather than `<td>` tags. So within a row, the first (that is, `[0]`) `<td>` tag corresponds to the city name."
      ]
    },
    {
      "cell_type": "markdown",
      "metadata": {
        "id": "pIW4UgURNdhz"
      },
      "source": [
        "## Aside: Scraping an HTML table with Pandas\n",
        "\n"
      ]
    },
    {
      "cell_type": "markdown",
      "metadata": {
        "id": "R2ufAAMGYenH"
      },
      "source": [
        "The Pandas command `read_html` can be used to scrape information from an HTML table on a webpage.\n",
        "\n",
        "We can call `read_html` on the URL."
      ]
    },
    {
      "cell_type": "code",
      "execution_count": null,
      "metadata": {
        "id": "YnGD1hMbpv7H"
      },
      "outputs": [],
      "source": [
        "pd.read_html(\"https://en.wikipedia.org/wiki/List_of_United_States_cities_by_population\")"
      ]
    },
    {
      "cell_type": "markdown",
      "metadata": {
        "id": "pQwWgh_cqynb"
      },
      "source": [
        "However, this scrapes all the tables on the webpage, not just the one we want. As with Beautiful Soup, we can narrow the search by specifying the table attributes."
      ]
    },
    {
      "cell_type": "code",
      "execution_count": null,
      "metadata": {
        "id": "4BKvPxa9qJ2-"
      },
      "outputs": [],
      "source": [
        "pd.read_html(\"https://en.wikipedia.org/wiki/List_of_United_States_cities_by_population\", attrs = {'class': 'wikitable sortable', \"style\": \"text-align:center\"})\n",
        "\n",
        "#the filtering doesn't work but can use the 3 table in wiki"
      ]
    },
    {
      "cell_type": "markdown",
      "metadata": {
        "id": "P6P7xCnPrBtS"
      },
      "source": [
        "This still returns 3 tables. As we remarked above, the table that we want is the first one (see `[0]` below)."
      ]
    },
    {
      "cell_type": "code",
      "execution_count": null,
      "metadata": {
        "id": "96L5qJvGp7ks"
      },
      "outputs": [],
      "source": [
        "df_cities2 = pd.read_html(\"https://en.wikipedia.org/wiki/List_of_United_States_cities_by_population\")[2]\n",
        "df_cities2\n",
        "\n",
        "#the filtering doesn't work but can use the 3 table in wiki"
      ]
    },
    {
      "cell_type": "markdown",
      "metadata": {
        "id": "TjeczIIMYeqj"
      },
      "source": [
        "Wait, that seemed much easier than using Beautiful Soup, and it returned a data frame, and we even got for free some formatting like removing the commas from the population! Why didn't we just use `read_html` in the first place? It's true the `read_html` works well when scraping information from an HTML *table*. Unfortunately, you often want to scrape information from a webpage that isn't conveniently stored in an HTML table, in which case `read_html` won't work. (It only searches for `<table>`, `<th>`, `<tr>`, and `<td>` tags, but there are many other HTML tags.) Though Beautiful Soup is not as simple as `read_html`, it is more flexible and thus more widely applicable."
      ]
    },
    {
      "cell_type": "markdown",
      "metadata": {
        "id": "ctj79YpgX6hw"
      },
      "source": [
        "## Scraping information that is NOT in a `<table>` with Beautiful Soup"
      ]
    },
    {
      "cell_type": "markdown",
      "metadata": {
        "id": "KK6rJQbuuWwF"
      },
      "source": [
        "The Cal Poly course catalog http://catalog.calpoly.edu/collegesandprograms/collegeofsciencemathematics/statistics/#courseinventory contains a list of courses offered by the Statistics department. **You will scrape this website to obtain a Pandas data frame with one row for each DATA or STAT course and two columns: course name and number (e.g, DATA 301. Introduction to Data Science) and term typically offered (e.g., Term Typically Offered: F, W, SP).**"
      ]
    },
    {
      "cell_type": "markdown",
      "metadata": {
        "id": "hbLLrwxs0eWd"
      },
      "source": [
        "Note: Pandas `read_html` is not help here since the courses are not stored in a `<table>.`"
      ]
    },
    {
      "cell_type": "code",
      "execution_count": 69,
      "metadata": {
        "id": "QIRewkca0jhz"
      },
      "outputs": [],
      "source": [
        "pd.read_html(\"http://catalog.calpoly.edu/collegesandprograms/collegeofsciencemathematics/statistics/#courseinventory\")"
      ]
    },
    {
      "cell_type": "markdown",
      "metadata": {
        "id": "lvSrhxS4Se7a"
      },
      "source": [
        "\n",
        "Notes/suggestions:\n",
        "\n",
        "\n",
        "- Inspect the page source as you write your code\n",
        "- The courses are not stored in a `<table>`. How are they stored?\n",
        "- You will need to write a loop to get the information for all courses, but you might want to try just scraping the info for DATA 100 first\n",
        "- What kind of tag is the course name stored in? What is the `class` of the tag?\n",
        "- What kind of tag is the quarter(s) the course is offered stored in? What is the `class` of the tag? Is this the only tag of this type with the class? How will you get the one you want?\n",
        "- You don't have to remove the number of units (e.g., 4 units) from the course name and number, but you can try it if you want\n",
        "- You will need to pull the text from the tag. If `.text` returns text with \"\\n\" at the end, try `get_text(strip = True)` instead of `text`\n",
        "- Don't forget to convert to a Pandas Data Frame; it should have 74 rows and 2 columns\n",
        "- The goal of this exercise is just to create the Data Frame. If you were going to use it then you might need to clean the data first. (You can use Beautiful Soup to do some of the cleaning for you, but that goes beyond our scope.)\n",
        "\n"
      ]
    },
    {
      "cell_type": "code",
      "execution_count": 71,
      "metadata": {},
      "outputs": [],
      "source": [
        "# YOUR CODE HERE\n",
        "import requests\n",
        "response = requests.get(\"http://catalog.calpoly.edu/collegesandprograms/collegeofsciencemathematics/statistics/#courseinventory\")"
      ]
    },
    {
      "cell_type": "code",
      "execution_count": null,
      "metadata": {},
      "outputs": [],
      "source": [
        "# YOUR CODE HERE\n",
        "from bs4 import BeautifulSoup\n",
        "soup = BeautifulSoup(response.content, \"html.parser\")\n",
        "\n"
      ]
    },
    {
      "cell_type": "code",
      "execution_count": 85,
      "metadata": {},
      "outputs": [
        {
          "data": {
            "text/plain": [
              "0"
            ]
          },
          "execution_count": null,
          "metadata": {},
          "output_type": "execute_result"
        }
      ],
      "source": [
        "tables = soup.find_all(\"div\", {\"class\": \"courseinventorycontainer\"})\n",
        "\n",
        "\n",
        "len(tables)\n",
        "#by looking at html i think its table 3 \n",
        "#table = tables[2]"
      ]
    },
    {
      "cell_type": "code",
      "execution_count": 93,
      "metadata": {},
      "outputs": [
        {
          "data": {
            "text/plain": [
              "0"
            ]
          },
          "execution_count": null,
          "metadata": {},
          "output_type": "execute_result"
        }
      ],
      "source": [
        "len(soup.find_all(\"div\",\n",
        "                  attrs={\n",
        "                      \"id\": \"courseinventorycontainer\"}\n",
        "                  ))"
      ]
    },
    {
      "cell_type": "code",
      "execution_count": 70,
      "metadata": {
        "id": "EW2sWIGavIFc"
      },
      "outputs": [
        {
          "ename": "AttributeError",
          "evalue": "'list' object has no attribute 'find_all'",
          "output_type": "error",
          "traceback": [
            "\u001b[0;31m---------------------------------------------------------------------------\u001b[0m\n",
            "\u001b[0;31mAttributeError\u001b[0m                            Traceback (most recent call last)\n",
            "Cell \u001b[0;32mIn[70], line 8\u001b[0m\n",
            "\u001b[1;32m      4\u001b[0m rows \u001b[38;5;241m=\u001b[39m []\n",
            "\u001b[1;32m      6\u001b[0m \u001b[38;5;66;03m# iterate over all vals in the courses\u001b[39;00m\n",
            "\u001b[1;32m      7\u001b[0m \u001b[38;5;66;03m#each course is seperated by div\u001b[39;00m\n",
            "\u001b[0;32m----> 8\u001b[0m \u001b[38;5;28;01mfor\u001b[39;00m course \u001b[38;5;129;01min\u001b[39;00m page\u001b[38;5;241m.\u001b[39mfind_all(\u001b[38;5;124m\"\u001b[39m\u001b[38;5;124mdiv\u001b[39m\u001b[38;5;124m\"\u001b[39m)[\u001b[38;5;241m2\u001b[39m:]:\n",
            "\u001b[1;32m      9\u001b[0m \n",
            "\u001b[1;32m     10\u001b[0m     \u001b[38;5;66;03m# Get all the cells (<td>) in the row.\u001b[39;00m\n",
            "\u001b[1;32m     11\u001b[0m     cells \u001b[38;5;241m=\u001b[39m course\u001b[38;5;241m.\u001b[39mfind_all(\u001b[38;5;124m\"\u001b[39m\u001b[38;5;124mdiv\u001b[39m\u001b[38;5;124m\"\u001b[39m)\n",
            "\u001b[1;32m     13\u001b[0m     \u001b[38;5;66;03m# The information we need is the text between tags.\u001b[39;00m\n",
            "\u001b[1;32m     14\u001b[0m \n",
            "\u001b[1;32m     15\u001b[0m     \u001b[38;5;66;03m# Find the the name of the city in cell[0]\u001b[39;00m\n",
            "\u001b[1;32m     16\u001b[0m     \u001b[38;5;66;03m# which for most city is contained in the <a> tag\u001b[39;00m\n",
            "\n",
            "\u001b[0;31mAttributeError\u001b[0m: 'list' object has no attribute 'find_all'"
          ]
        }
      ],
      "source": [
        "#turn html into actual dataframe\n",
        "\n",
        "# initialize an empty list\n",
        "rows = []\n",
        "\n",
        "# iterate over all vals in the courses\n",
        "#each course is seperated by div\n",
        "for course in page.find_all(\"div\")[2:]:\n",
        "\n",
        "    # Get all the cells (<td>) in the row.\n",
        "    cells = course.find_all(\"div\")\n",
        "\n",
        "    # The information we need is the text between tags.\n",
        "\n",
        "    # Find the the name of the city in cell[0]\n",
        "    # which for most city is contained in the <a> tag\n",
        "    course_tag = cells[0].find(\"strong\") or cells[0]\n",
        "    course = course_tag.text\n",
        "\n",
        "\n",
        "\n",
        "    # Append this data.\n",
        "    rows.append({\n",
        "        \"course\": course\n",
        "    })\n"
      ]
    },
    {
      "cell_type": "markdown",
      "metadata": {
        "id": "17e8M_OsaHJz"
      },
      "source": [
        "Hints:\n",
        "\n",
        "- Each course is represented by a `<div>` with `class=courseblock`, so you can find all the courses with `soup.find_all(\"div\", {\"class\": \"courseblock\"})`\n",
        "- The course name is in a `<p>` tag with `class=courseblocktitle`, inside a `<strong>` tag. (Though I don't think we need to find the strong tag here.)\n",
        "- The term typically offered is in `<p>` tag with `class=noindent`. However, there are several tags with this class; term typically offered is the first one.\n",
        "- If you want to use Beautiful Soup to remove the course units (e.g., 4 units), find the `<span>` tag within the course name tag and `.extract()` this span tag"
      ]
    }
  ],
  "metadata": {
    "colab": {
      "provenance": []
    },
    "kernelspec": {
      "display_name": "Python 3",
      "name": "python3"
    },
    "language_info": {
      "name": "python"
    }
  },
  "nbformat": 4,
  "nbformat_minor": 0
}
