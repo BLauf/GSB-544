{
  "cells": [
    {
      "cell_type": "raw",
      "metadata": {
        "id": "Wm7rfPnRrrqm"
      },
      "source": [
        "---\n",
        "title: 'Practice Activity: Basic Syntax'\n",
        "output: html\n",
        "---"
      ]
    },
    {
      "cell_type": "code",
      "execution_count": 271,
      "metadata": {
        "vscode": {
          "languageId": "python"
        }
      },
      "outputs": [],
      "source": [
        "#imports libraries\n",
        "import numpy as np\n",
        "import pandas as pd"
      ]
    },
    {
      "cell_type": "markdown",
      "metadata": {
        "id": "0mbR_4URrrqo"
      },
      "source": [
        "## Overview\n",
        "\n",
        "In this PA, you will will be creating and manipulating basic objects to uncover a top secret message.\n",
        "\n",
        "### Hint 1\n",
        "\n",
        "As you work through this PA, you will encounter some code that does not work as you want it to.  Don't despair!  Errors (when R is unable to run your code) and bugs (when the code doesn't do what you hoped) are a natural part of coding.  Even the best of the best deal with these problems regularly - learning to track down the issue is a skill that you can learn and practice.\n",
        "\n",
        "Google is your friend!  If an error is confusing, copy it into Google and see what other people are saying.  If you don't know how to do something, search for it.\n",
        "\n",
        "### Hint 2\n",
        "\n",
        "Just because there is no error message doesn't mean everything went smoothly.  You should be regularly printing out your objects, to see they contain the information and format that you expect.\n",
        "\n",
        "For example, if you have an object named `my_thing`, you might first want to simply look at the object by typing its name.\n",
        "\n",
        "However, you might also want to make sure it is the right **object type** and/or the right **object structure**.\n"
      ]
    },
    {
      "cell_type": "raw",
      "metadata": {},
      "source": [
        "def my_thing():\n",
        "    print(\"Hello from my_thing function!\")\n",
        "\n",
        "my_thing()"
      ]
    },
    {
      "cell_type": "code",
      "execution_count": 272,
      "metadata": {
        "id": "D5pSzgxjrrqq",
        "vscode": {
          "languageId": "python"
        }
      },
      "outputs": [
        {
          "data": {
            "text/plain": [
              "4"
            ]
          },
          "execution_count": null,
          "metadata": {},
          "output_type": "execute_result"
        }
      ],
      "source": [
        "#what do i do with this\n",
        "my_thing = \"good\"\n",
        "\n",
        "#says what type my_thing is\n",
        "type(my_thing)\n",
        "\n",
        "#length of my_thing only good for characters\n",
        "len(my_thing)\n",
        "\n",
        "\n"
      ]
    },
    {
      "cell_type": "markdown",
      "metadata": {
        "id": "QpUJsmq0rrqr"
      },
      "source": [
        "## Part One: Setup\n",
        "\n",
        "Each of the following code chunks will cause an error and/or do the desired task incorrectly.  Find the mistake, and correct it to complete the intended action.\n",
        "\n",
        "\n",
        "\n",
        "\n",
        "1. Create lists containing the upper case letters, lower case letters, and some punctuation marks.\n"
      ]
    },
    {
      "cell_type": "code",
      "execution_count": 273,
      "metadata": {
        "colab": {
          "base_uri": "https://localhost:8080/",
          "height": 143
        },
        "id": "tk5bezBJrrqs",
        "outputId": "4ed6b62e-bd9b-41a0-831e-efc52b595226",
        "vscode": {
          "languageId": "python"
        }
      },
      "outputs": [],
      "source": [
        "lower_case = [\"a\", \"b\", \"c\", \"d\", \"e\", \"f\", \"g\", \"h\", \"i\", \"j\", \"k\", \"l\", \"m\", \"n\", \"o\", \"p\", \"q\", \"r\", \"s\", \"t\", \"u\", \"v\", \"w\", \"x\", \"y\", \"z\"]\n",
        "\n",
        "upper_case = [\"A\", \"B\", \"C\", \"D\", \"E\", \"F\", \"G\", \"H\" \"I\", \"J\", \"K\", \"L\", \"M\", \"N\", \"O\", \"P\", \"Q\", \"R\", \"S\", \"T\", \"U\", \"V\", \"W\", \"X\", \"Y\", \"Z\"]\n",
        "\n",
        "#solution: added /\" to allow the quote to be the character\n",
        "punctuation = [\".\", \",\", \"!\", \"?\", \"'\", \" \\\" \", \"(\", \")\", \" \", \"-\", \";\", \":\"]"
      ]
    },
    {
      "cell_type": "markdown",
      "metadata": {
        "id": "ZejwK6urrrqs"
      },
      "source": [
        "2. Make one long list containing all the symbols.  Find the length of this list.\n"
      ]
    },
    {
      "cell_type": "code",
      "execution_count": 274,
      "metadata": {
        "id": "l8ZVLLXWrrqs",
        "vscode": {
          "languageId": "python"
        }
      },
      "outputs": [
        {
          "data": {
            "text/plain": [
              "3"
            ]
          },
          "execution_count": null,
          "metadata": {},
          "output_type": "execute_result"
        }
      ],
      "source": [
        "all_symbols = [lower_case, upper_case, punctuation]\n",
        "\n",
        "len(all_symbols)\n",
        "\n",
        "#all_symbols"
      ]
    },
    {
      "cell_type": "markdown",
      "metadata": {
        "id": "HvgV76Dbrrqt"
      },
      "source": [
        "3. Repeat the previous steps, but instead of using *list* type objects, use **numpy arrays**.  Don't forget to **import** the numpy library!\n"
      ]
    },
    {
      "cell_type": "code",
      "execution_count": 275,
      "metadata": {
        "id": "x9YyIMP6rrqt",
        "vscode": {
          "languageId": "python"
        }
      },
      "outputs": [],
      "source": [
        "#solution: added np. to each of the lines\n",
        "lower_case = np.array([\"a\", \"b\", \"c\", \"d\", \"e\", \"f\", \"g\", \"h\", \"i\", \"j\", \"k\", \"l\", \"m\", \"n\", \"o\", \"p\", \"q\", \"r\", \"s\", \"t\", \"u\", \"v\", \"w\", \"x\", \"y\", \"z\"])\n",
        "\n",
        "upper_case = np.array([\"A\", \"B\", \"C\", \"D\", \"E\", \"F\", \"G\", \"H\", \"I\", \"J\", \"K\", \"L\", \"M\", \"N\", \"O\", \"P\", \"Q\", \"R\", \"S\", \"T\", \"U\", \"V\", \"W\", \"X\", \"Y\", \"Z\"])\n",
        "\n",
        "punctuation = np.array([\".\", \",\", \"!\", \"?\", \"'\", \"\\\"\", \"(\", \")\", \" \", \"-\", \";\", \":\"])\n",
        "\n",
        "\n",
        "## Use np.concatenate to combine into long array\n",
        "\n",
        "#solution: added [] in the argument, this is because np.concatenate is expecting a list rather than several arguments\n",
        "all_symbols = np.concatenate([lower_case, upper_case, punctuation])"
      ]
    },
    {
      "cell_type": "markdown",
      "metadata": {
        "id": "rpbAtPlXrrqt"
      },
      "source": [
        "4. Make a **pandas data frame**, with one column called \"Symbol\" containing the `all_symbols` array.\n"
      ]
    },
    {
      "cell_type": "code",
      "execution_count": 276,
      "metadata": {
        "id": "K103ZvNVrrqu",
        "vscode": {
          "languageId": "python"
        }
      },
      "outputs": [],
      "source": [
        "symbols_df = pd.DataFrame(all_symbols, columns = [\"Symbol\"])\n",
        "\n",
        "#or\n",
        "\n",
        "symbols_df = pd.DataFrame({'Symbol': all_symbols})\n",
        "\n",
        "#symbols_df.rename(columns = \"Symbol\")"
      ]
    },
    {
      "cell_type": "markdown",
      "metadata": {
        "id": "L-m2LLyHrrqu"
      },
      "source": [
        "## Part Two: Decoding the secret message.\n"
      ]
    },
    {
      "cell_type": "code",
      "execution_count": 277,
      "metadata": {
        "id": "iP7Zj5hPrrqu",
        "vscode": {
          "languageId": "python"
        }
      },
      "outputs": [],
      "source": [
        "top_secret = pd.read_csv(\"https://www.dropbox.com/s/k72h1zewk4gtqep/PA_Secret_Code?dl=1\", header=None)\n",
        "\n",
        "#accesses columm 0, then converts to numPy array\n",
        "#solution: removed quotes from top_secret[\"0\"]\n",
        "top_secret = top_secret[0].to_numpy()"
      ]
    },
    {
      "cell_type": "markdown",
      "metadata": {
        "id": "T3ui38Z9rrqu"
      },
      "source": [
        "### Hint\n",
        "\n",
        "Recall that basic math operations are **vectorized**.  This means you don't have to repeat the process for each item in a list; you can apply the math to the whole thing at once.\n",
        "\n",
        "### Instructions\n",
        "\n",
        "By altering this top secret set of numbers, you will be able to create a message.  Write your own code to complete the steps below.\n",
        "\n",
        "1. Add 14 to every number.\n",
        "2. Multiply every number by 18, then subtract 257.\n",
        "3. Exponentiate every number.  (That is, do e^[number].  You may have to Google how to do this!)\n",
        "4. Square every number.\n",
        "\n",
        "**Checkpoint:** Headquarters has informed you that at this stage of decoding, there should be 352 numbers in the secret message that are below 17.  Write code to check if this is true for your data.\n",
        "\n",
        "\n",
        "5. Turn your one-dimensional array of numbers into a two-dimensional array (matrix) with 5 columns.\n",
        "6. Separately from your top secret numbers, create an array of all the even numbers between 1 and 382. Name it \"evens\". That is, \"evens\" should contain 2, 4, 6, 8 ..., 382.\n",
        "7. Subtract the \"evens\" vector from the first column of your secret message matrix.\n",
        "8. Subtract 100 from all numbers in the 18-24th rows of the 3rd column.\n",
        "9. Multiply all numbers in the 4th and 5th column by 2.\n",
        "10. Turn your matrix back into a one dimensional array.\n",
        "\n",
        "\n",
        "**Checkpoint:** Headquarters has informed you that at this stage of decoding, all numbers in indices 500 and beyond are below 100.  Write code to check if your numbers fulfill this requirement.\n",
        "\n",
        "11. Take the square root of all numbers in indices 37 to 464.\n",
        "12. Round all numbers to the nearest whole number.\n",
        "13. Replace all instances of the number 39 with 20.\n",
        "\n",
        "**Checkpoint:** Headquarters has informed you that your final message should have 344 even numbers.  Write code to check if your numbers fulfill this requirement.\n",
        "\n",
        "## Part 3: The secret message!\n",
        "\n",
        "Run the following to discover the final message!  Google the first line of this message, if you do not recognize it, to see what it is.\n"
      ]
    },
    {
      "cell_type": "code",
      "execution_count": 278,
      "metadata": {
        "vscode": {
          "languageId": "python"
        }
      },
      "outputs": [],
      "source": [
        "#1\n",
        "#adds 14 to every number\n",
        "top_secret_1 = top_secret + 14"
      ]
    },
    {
      "cell_type": "code",
      "execution_count": 279,
      "metadata": {
        "vscode": {
          "languageId": "python"
        }
      },
      "outputs": [],
      "source": [
        "#2\n",
        "#multiplies every number by 18 then subtracts 257\n",
        "top_secret_2 = (top_secret_1 * 18) - 257"
      ]
    },
    {
      "cell_type": "code",
      "execution_count": 280,
      "metadata": {
        "vscode": {
          "languageId": "python"
        }
      },
      "outputs": [],
      "source": [
        "#3\n",
        "#exponentiates every number using numpy\n",
        "top_secret_3 = np.exp(top_secret_2)"
      ]
    },
    {
      "cell_type": "code",
      "execution_count": 281,
      "metadata": {
        "vscode": {
          "languageId": "python"
        }
      },
      "outputs": [],
      "source": [
        "#4\n",
        "#squares every number using numpy\n",
        "top_secret_4 = np.square(top_secret_3)"
      ]
    },
    {
      "cell_type": "code",
      "execution_count": 282,
      "metadata": {
        "vscode": {
          "languageId": "python"
        }
      },
      "outputs": [],
      "source": [
        "#checkpoint #1\n",
        "#make sure that there are 352 values below 17\n",
        "count_vals = top_secret_4[(top_secret_4 < 17)]\n",
        "\n",
        "#we get 352 vals so it's"
      ]
    },
    {
      "cell_type": "code",
      "execution_count": 283,
      "metadata": {
        "vscode": {
          "languageId": "python"
        }
      },
      "outputs": [],
      "source": [
        "#5\n",
        "#turns this 1D array into a 2D array with 5 columns\n",
        "\n",
        "#figured 191 by doing length(top_secret) / 5\n",
        "#first argument is #col\n",
        "#second argument is #row\n",
        "#add order = 'F' to ensure that the array is converted into a matrix correctly\n",
        "top_secret_5 = top_secret_4.reshape(5, 191, order = 'F')\n"
      ]
    },
    {
      "cell_type": "code",
      "execution_count": 284,
      "metadata": {
        "vscode": {
          "languageId": "python"
        }
      },
      "outputs": [],
      "source": [
        "#6\n",
        "#create array of all even numbers 1-382\n",
        "\n",
        "all_nums = np.arange(0, 382)\n",
        "\n",
        "#filters array so just even vals\n",
        "even_vals = all_nums[(all_nums % 2 == 0)]"
      ]
    },
    {
      "cell_type": "code",
      "execution_count": 285,
      "metadata": {
        "vscode": {
          "languageId": "python"
        }
      },
      "outputs": [],
      "source": [
        "#7\n",
        "#subtract even array from first column of matrix\n",
        "\n",
        "#check length of top secret column and even_vals\n",
        "len(top_secret_5[0])\n",
        "len(even_vals)\n",
        "\n",
        "#store top_secret_7 so that nothing changes if we run this multiple times it doesn't keep chaning the vals\n",
        "top_secret_7 = top_secret_5\n",
        "\n",
        "#b/c they are the same length\n",
        "#we can subtract top_secret by even_vals\\\n",
        "top_secret_7[0] = top_secret_5[0] - even_vals\n",
        "\n",
        "#why does this keep changing top_secret_7 if i keep running it?\n"
      ]
    },
    {
      "cell_type": "code",
      "execution_count": 286,
      "metadata": {
        "vscode": {
          "languageId": "python"
        }
      },
      "outputs": [],
      "source": [
        "#8\n",
        "#subtract 100 from rows 18-24 in the 3rd column\n",
        "\n",
        "#store top_secret_8 so that nothing changes if we run this multiple times it doesn't keep chaning the vals\n",
        "top_secret_8 = top_secret_7\n",
        "\n",
        "top_secret_8[18:24, 3] = top_secret_7[18:24, 3] - 100\n"
      ]
    },
    {
      "cell_type": "code",
      "execution_count": 287,
      "metadata": {
        "vscode": {
          "languageId": "python"
        }
      },
      "outputs": [],
      "source": [
        "#9\n",
        "#multiply all rows in the 4th and 5th column by 2\n",
        "\n",
        "#store top_secret_9 so that nothing changes if we run this multiple times it doesn't keep chaning the vals\n",
        "top_secret_9 = top_secret_8\n",
        "\n",
        "top_secret_9[:, 4:5] = top_secret_8[:, 4:5] * 2"
      ]
    },
    {
      "cell_type": "code",
      "execution_count": 288,
      "metadata": {
        "vscode": {
          "languageId": "python"
        }
      },
      "outputs": [],
      "source": [
        "#10\n",
        "#turn matrix back into 1D array\n",
        "\n",
        "#1 column and 5*191 = 955 rows\n",
        "#add order = 'F' to ensure that the array is converted into a matrix correctly\n",
        "top_secret_10 = top_secret_9.reshape(1, 955, order = 'F')"
      ]
    },
    {
      "cell_type": "code",
      "execution_count": 289,
      "metadata": {
        "vscode": {
          "languageId": "python"
        }
      },
      "outputs": [
        {
          "data": {
            "text/plain": [
              "455"
            ]
          },
          "execution_count": null,
          "metadata": {},
          "output_type": "execute_result"
        }
      ],
      "source": [
        "#checkpoint #2\n",
        "#check to see if all rows 500 and above are < 100?\n",
        "selected_vals = top_secret_10[:, 500:]\n",
        "\n",
        "checkpoint2 = selected_vals[selected_vals <= 100]\n",
        "\n",
        "#how to check length of checkpoint 2?\n",
        "len(checkpoint2)\n",
        "\n",
        "#actual length\n",
        "#955 - 500 = 455"
      ]
    },
    {
      "cell_type": "code",
      "execution_count": 295,
      "metadata": {
        "vscode": {
          "languageId": "python"
        }
      },
      "outputs": [
        {
          "ename": "IndexError",
          "evalue": "arrays used as indices must be of integer (or boolean) type",
          "output_type": "error",
          "traceback": [
            "\u001b[0;31m---------------------------------------------------------------------------\u001b[0m\n",
            "\u001b[0;31mIndexError\u001b[0m                                Traceback (most recent call last)\n",
            "Cell \u001b[0;32mIn[295], line 6\u001b[0m\n",
            "\u001b[1;32m      1\u001b[0m \u001b[38;5;66;03m#11\u001b[39;00m\n",
            "\u001b[1;32m      2\u001b[0m \u001b[38;5;66;03m#square root of all numbers in indices 37 to 464\u001b[39;00m\n",
            "\u001b[1;32m      3\u001b[0m \u001b[38;5;66;03m#minus 1 b/c first row is 0\u001b[39;00m\n",
            "\u001b[1;32m      4\u001b[0m top_secret_11 \u001b[38;5;241m=\u001b[39m top_secret_10\n",
            "\u001b[0;32m----> 6\u001b[0m top_secret_11 \u001b[38;5;241m=\u001b[39m np\u001b[38;5;241m.\u001b[39msqrt(top_secret_11[top_secret_10[:, \u001b[38;5;241m36\u001b[39m:\u001b[38;5;241m463\u001b[39m]])\n",
            "\n",
            "\u001b[0;31mIndexError\u001b[0m: arrays used as indices must be of integer (or boolean) type"
          ]
        }
      ],
      "source": [
        "#11\n",
        "#square root of all numbers in indices 37 to 464\n",
        "#minus 1 b/c first row is 0\n",
        "top_secret_11 = top_secret_10\n",
        "\n",
        "#need to sqaure root just those specific rows while also keeping the info we need\n",
        "top_secret_11 = np.sqrt(top_secret_11[top_secret_10[:, 36:463]])"
      ]
    },
    {
      "cell_type": "code",
      "execution_count": 291,
      "metadata": {
        "vscode": {
          "languageId": "python"
        }
      },
      "outputs": [],
      "source": [
        "#12 \n",
        "#round all numbers to the nearest whole number\n",
        "top_secret_12 = np.round(top_secret_11)"
      ]
    },
    {
      "cell_type": "code",
      "execution_count": 292,
      "metadata": {
        "vscode": {
          "languageId": "python"
        }
      },
      "outputs": [],
      "source": [
        "#13\n",
        "#shows true/false for every val that is 13 (not useful)\n",
        "#top_secret_13 = [(top_secret_12 == 13)]\n",
        "\n",
        "#converts to np.array even though i think it already is one?\n",
        "#top_secret_13 = np.array([top_secret_12])\n",
        "\n",
        "#changes every val that is 39 in top_secret_12 to be 20\n",
        "top_secret_12[top_secret_12 == 39] = 20\n"
      ]
    },
    {
      "cell_type": "code",
      "execution_count": 293,
      "metadata": {
        "vscode": {
          "languageId": "python"
        }
      },
      "outputs": [
        {
          "data": {
            "text/plain": [
              "198"
            ]
          },
          "execution_count": null,
          "metadata": {},
          "output_type": "execute_result"
        }
      ],
      "source": [
        "#checkpoint #3\n",
        "#top_secret_12 = top_secret_12 - 1\n",
        "\n",
        "\n",
        "top_secret_even_vals = top_secret_12[top_secret_12 % 2 == 0]\n",
        "\n",
        "#if did correclty should equal 344 even vals\n",
        "len(top_secret_even_vals)"
      ]
    },
    {
      "cell_type": "code",
      "execution_count": 294,
      "metadata": {
        "id": "v_bB8VNvrrqu",
        "vscode": {
          "languageId": "python"
        }
      },
      "outputs": [],
      "source": [
        "#''.join(map(str, symbols_df.loc[top_secret]['Symbol']))"
      ]
    }
  ],
  "metadata": {
    "colab": {
      "provenance": []
    },
    "kernelspec": {
      "display_name": "Python 3 (ipykernel)",
      "language": "python",
      "name": "python3"
    },
    "language_info": {
      "name": "raw"
    }
  },
  "nbformat": 4,
  "nbformat_minor": 0
}
