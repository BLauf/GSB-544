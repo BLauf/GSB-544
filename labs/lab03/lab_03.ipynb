{
 "cells": [
  {
   "cell_type": "raw",
   "metadata": {
    "vscode": {
     "languageId": "raw"
    }
   },
   "source": [
    "---\n",
    "title: Lab 3 - Singing a song\n",
    "author: Ben Laufer\n",
    "format:\n",
    "    html:\n",
    "        code-fold: true\n",
    "embed-resources: true\n",
    "---"
   ]
  },
  {
   "cell_type": "code",
   "execution_count": 1,
   "metadata": {},
   "outputs": [],
   "source": [
    "#libraries\n",
    "import pandas as pd\n",
    "import numpy as np\n",
    "\n",
    "#!pip install num2words\n",
    "from num2words import num2words"
   ]
  },
  {
   "cell_type": "code",
   "execution_count": 2,
   "metadata": {},
   "outputs": [],
   "source": [
    "#data\n",
    "xmas = pd.read_csv(\"https://www.dropbox.com/scl/fi/qxaslqqp5p08i1650rpc4/xmas.csv?rlkey=erdxi7jbh7pqf9fh4lv4cayp5&dl=1\")"
   ]
  },
  {
   "cell_type": "markdown",
   "metadata": {},
   "source": [
    "**Function 1: pluralize_gift()**"
   ]
  },
  {
   "cell_type": "code",
   "execution_count": 3,
   "metadata": {},
   "outputs": [],
   "source": [
    "#basic tests\n",
    "#obj_1 = \"goose\"\n",
    "#obj_2 = \"lady\"\n",
    "#obj_3 = \"ring\"\n",
    "\n",
    "#obj_1.find(\"oo\")\n",
    "#obj_2[-1]\n",
    "#obj_3.find(\"oo\")\n",
    "\n",
    "#obj_1.replace(\"oo\", \"ee\")\n",
    "#obj_2.replace(\"y\", \"ies\")\n",
    "#obj_3 + \"s\"\n"
   ]
  },
  {
   "cell_type": "code",
   "execution_count": 4,
   "metadata": {},
   "outputs": [],
   "source": [
    "#assumes plural of dove is doves and plural of partridge is partridges\n",
    "\n",
    "def pluralize_gift(gift):\n",
    "\n",
    "  \"\"\"\n",
    "  Returns plural of a noun\n",
    "  \n",
    "  Parameters\n",
    "  ----------\n",
    "  gift: str\n",
    "    A noun\n",
    "    \n",
    "  Return\n",
    "  ------\n",
    "  str\n",
    "    Plural version\n",
    "  \"\"\"\n",
    "\n",
    "# ex goose -> geese\n",
    "  if gift.find(\"oo\") == True:\n",
    "    gift = gift.replace(\"oo\", \"ee\")\n",
    "\n",
    "# ex lady -> ladies\n",
    "  elif gift.endswith(\"y\") == True:\n",
    "    gift = gift.replace(\"y\", \"ies\")\n",
    "\n",
    "# ring -> rings\n",
    "  else:\n",
    "    gift = gift + \"s\"\n",
    "\n",
    "  return gift\n"
   ]
  },
  {
   "cell_type": "markdown",
   "metadata": {},
   "source": [
    "**Unit Test For Function 1**"
   ]
  },
  {
   "cell_type": "code",
   "execution_count": 5,
   "metadata": {},
   "outputs": [
    {
     "data": {
      "text/plain": [
       "0     partridges\n",
       "1          doves\n",
       "2           hens\n",
       "3          birds\n",
       "4          rings\n",
       "5          geese\n",
       "6          swans\n",
       "7          maids\n",
       "8         ladies\n",
       "9          lords\n",
       "10        pipers\n",
       "11      drummers\n",
       "Name: Gift.Item, dtype: object"
      ]
     },
     "execution_count": null,
     "metadata": {},
     "output_type": "execute_result"
    }
   ],
   "source": [
    "#unit tests\n",
    "\n",
    "#pluralize_gift(\"goose\")\n",
    "\n",
    "#pluralize_gift(\"lady\")\n",
    "\n",
    "#pluralize_gift(\"ring\")\n",
    "\n",
    "# Will work if your function is vectorized! \n",
    "#pluralize_gift(xmas['Gift.Item'])\n",
    "\n",
    "#works this way\n",
    "xmas['Gift.Item'].apply(pluralize_gift)"
   ]
  },
  {
   "cell_type": "markdown",
   "metadata": {},
   "source": [
    "**Function 2: make_phrase()**"
   ]
  },
  {
   "cell_type": "code",
   "execution_count": 6,
   "metadata": {},
   "outputs": [],
   "source": [
    "#function that converts word to numeric val\n",
    "def word_to_num(num):\n",
    "\n",
    "  \"\"\"\n",
    "  Returns a phrase\n",
    "  \n",
    "  Parameters\n",
    "  ----------\n",
    "  num: num\n",
    "    \n",
    "  Return\n",
    "  ------\n",
    "  word: str\n",
    "  \"\"\"\n",
    "\n",
    "  map = {\n",
    "      \"zero\": 0,\n",
    "      \"one\": 1,\n",
    "      \"two\": 2,\n",
    "      \"three\": 3,\n",
    "      \"four\": 4,\n",
    "      \"five\": 5,\n",
    "      \"six\": 6,\n",
    "      \"seven\": 7,\n",
    "      \"eight\": 8,\n",
    "      \"nine\": 9,\n",
    "      \"ten\": 10,\n",
    "      \"eleven\": 11,\n",
    "      \"twelve\": 12\n",
    "  }\n",
    "\n",
    "  word = map[num]\n",
    "  \n",
    "  return(word)"
   ]
  },
  {
   "cell_type": "code",
   "execution_count": 7,
   "metadata": {},
   "outputs": [],
   "source": [
    "#unit test of word_to_num function, works\n",
    "#word_to_num(\"twelve\")"
   ]
  },
  {
   "cell_type": "code",
   "execution_count": 8,
   "metadata": {},
   "outputs": [],
   "source": [
    "def make_phrase(num, num_word, item, verb, adjective, location):\n",
    "\n",
    "  \"\"\"\n",
    "  Returns a phrase\n",
    "  \n",
    "  Parameters\n",
    "  ----------\n",
    "  num: num\n",
    "  num_word: str\n",
    "  item: str\n",
    "  verb: str\n",
    "  adjective: str\n",
    "  location: str\n",
    "    A noun\n",
    "    \n",
    "  Return\n",
    "  ------\n",
    "  phrase: str\n",
    "  \"\"\"\n",
    "  \n",
    "  ## Step 1: Replace NAs with blank strings\n",
    "  #checks if each item is na, if it is, then sets to blank strings\n",
    "  if pd.isna(item):\n",
    "    item = \"\"\n",
    "  if pd.isna(verb):\n",
    "    verb = \"\"\n",
    "  if pd.isna(adjective):\n",
    "    adjective = \"\"\n",
    "  if pd.isna(location):\n",
    "    location = \"\"\n",
    "  \n",
    "  #places the the hyphon with a space from verb if there is one\n",
    "  if \"-\" in verb:\n",
    "    verb = verb.replace(\"-\", \" \")\n",
    "\n",
    "  #if no num is given\n",
    "  #convert string num to num\n",
    "  if pd.isna(num):\n",
    "    num = word_to_num(num_word)\n",
    "\n",
    "  #if no num_word is given\n",
    "  #elif pd.isna(num_word): \n",
    "    #num_word = num2words(num)\n",
    "\n",
    "  #converts num_word to the actual number rather than the like \"TWELFTH\"\n",
    "  num_word = num2words(num)\n",
    "\n",
    "  #capitalize num_word\n",
    "  num_word = num_word.capitalize()\n",
    "\n",
    "  ## Step 2: If the day number is larger than 1, the gift items need pluralized!\n",
    "  ### Hint: call the function you created above!\n",
    "\n",
    "  if num > 1:\n",
    "    item = pluralize_gift(item)\n",
    "\n",
    "  ## Step 3: Figure out if a gift item starts with a vowel\n",
    "  ## Step 4: For the first day, if the gift item starts with a vowel, replace the day with \"an\" and if the gift item does not start with a vowel, replace the day with \"a\" (e.g. a partridge in a pear tree). If it is not the first day, use just the number word (e.g. ten lords a leap)\n",
    "  if num == 1:\n",
    "    if item.startswith(('a', 'e', 'i', 'o', 'u')):\n",
    "      num_word = \"an\"\n",
    "    else:\n",
    "      num_word = \"a\"\n",
    " \n",
    "  ## Step 5: Put all of the pieces together into one string and return!\n",
    "\n",
    "  #if location is na, then the adjective is describing the item NOT the location\n",
    "  # location would be \"\" b/c we assigned it that earlier\n",
    "  if location == \"\":\n",
    "    \n",
    "    #refrenced chat GPT.\n",
    "    #stores all the parts into one list\n",
    "    phrase_parts = [num_word, adjective, item, verb, location]\n",
    "\n",
    "    #joins each part for all the parts in phrase_part, and joins then by \" \"\n",
    "    #and then strip removes any leading/trailing spaces that might occur.\n",
    "    phrase = \" \".join(part for part in phrase_parts if part).strip()\n",
    "\n",
    "  else:\n",
    "    phrase_parts = [num_word, item, verb, adjective, location]\n",
    "    phrase = \" \".join(part for part in phrase_parts if part).strip()\n",
    "\n",
    "  return(phrase)"
   ]
  },
  {
   "cell_type": "markdown",
   "metadata": {},
   "source": [
    "**Unit Tests for Function 2**"
   ]
  },
  {
   "cell_type": "code",
   "execution_count": 9,
   "metadata": {},
   "outputs": [],
   "source": [
    "#unit test, works\n",
    "#make_phrase(num = 1, num_word = pd.NA, item = \"goose\", verb = \"in a\", adjective = \"pear\", location = \"tree\")"
   ]
  },
  {
   "cell_type": "code",
   "execution_count": 10,
   "metadata": {},
   "outputs": [
    {
     "data": {
      "text/plain": [
       "0     a partridge in a pear tree\n",
       "1               Two turtle doves\n",
       "2              Three french hens\n",
       "3             Four calling birds\n",
       "4              Five golden rings\n",
       "5             Six geese a laying\n",
       "6         Seven swans a swimming\n",
       "7          Eight maids a milking\n",
       "8            Nine ladies dancing\n",
       "9            Ten lords a leaping\n",
       "10          Eleven pipers piping\n",
       "11      Twelve drummers drumming\n",
       "Name: Full.Phrase, dtype: object"
      ]
     },
     "execution_count": null,
     "metadata": {},
     "output_type": "execute_result"
    }
   ],
   "source": [
    "#unit test for xmas dataset, works\n",
    "xmas['Full.Phrase'] = xmas.apply(lambda x: make_phrase(x['Day'], x['Day.in.Words'], x['Gift.Item'], x['Verb'], x['Adjective'], x['Location']), axis = 1)\n",
    "xmas['Full.Phrase']"
   ]
  },
  {
   "cell_type": "markdown",
   "metadata": {},
   "source": [
    "**Function 3: sing_day()**"
   ]
  },
  {
   "cell_type": "code",
   "execution_count": 11,
   "metadata": {},
   "outputs": [],
   "source": [
    "def sing_day(dataset, num, phrase_col):\n",
    "\n",
    "  \"\"\"\n",
    "  Returns a phrase\n",
    "  \n",
    "  Parameters\n",
    "  ----------\n",
    "  dataset: dat\n",
    "  num: num\n",
    "  phrase_col: str\n",
    "    \n",
    "  Return\n",
    "  ------\n",
    "  full_phrase: str\n",
    "  \"\"\"\n",
    "  \n",
    "  # Step 1: Setup the intro line\n",
    "  # convert \"1\" to \"first\" etc.\n",
    "  num_word = num2words(num, to='ordinal')\n",
    "  intro = \"On the \" + num_word + \" day of Christmas, my true love sent to me:\"\n",
    "  \n",
    "  # Step 2: Sing the gift phrases\n",
    "  # Hint: What order are they gifts sung in each day?\n",
    "\n",
    "  # use .head so it only stores the desired amount of days\n",
    "  gifts = dataset[phrase_col].head(num)\n",
    "  #reverse gifts order\n",
    "  #refrenced chat GPT\n",
    "  gifts_reverse = list(reversed(gifts))\n",
    "\n",
    "  # Step 3: Put it all together and return\n",
    "  #store song outside\n",
    "  song = intro\n",
    "  for i in range(num):\n",
    "    #checks if its the last line to add the and\n",
    "    if(i == num - 1):\n",
    "      song = song + \"\\n\" + \"and \" + gifts_reverse[i] + \".\"\n",
    "    else:\n",
    "      song = song + \"\\n\" + gifts_reverse[i] + \",\"\n",
    "\n",
    "  return(song)"
   ]
  },
  {
   "cell_type": "markdown",
   "metadata": {},
   "source": [
    "**Unit Test for Function 3**"
   ]
  },
  {
   "cell_type": "code",
   "execution_count": 12,
   "metadata": {},
   "outputs": [
    {
     "name": "stdout",
     "output_type": "stream",
     "text": [
      "On the tenth day of Christmas, my true love sent to me:\n",
      "Ten lords a leaping,\n",
      "Nine ladies dancing,\n",
      "Eight maids a milking,\n",
      "Seven swans a swimming,\n",
      "Six geese a laying,\n",
      "Five golden rings,\n",
      "Four calling birds,\n",
      "Three french hens,\n",
      "Two turtle doves,\n",
      "and a partridge in a pear tree.\n",
      "On the tenth day of Christmas, my true love sent to me:\n",
      "Ten lords a leaping,\n",
      "Nine ladies dancing,\n",
      "Eight maids a milking,\n",
      "Seven swans a swimming,\n",
      "Six geese a laying,\n",
      "Five golden rings,\n",
      "Four calling birds,\n",
      "Three french hens,\n",
      "Two turtle doves,\n",
      "and a partridge in a pear tree.\n"
     ]
    }
   ],
   "source": [
    "#unit test, works\n",
    "test1 = sing_day(xmas, 10, \"Full.Phrase\")\n",
    "\n",
    "print(test1)"
   ]
  },
  {
   "cell_type": "markdown",
   "metadata": {},
   "source": [
    "**Here is an improved version of the sing_day function that doesn't need the col name and instead using the phrase function to make the song!**"
   ]
  },
  {
   "cell_type": "code",
   "execution_count": 13,
   "metadata": {},
   "outputs": [],
   "source": [
    "#here is an improv\n",
    "def sing_day_improved(dataset, num):\n",
    "\n",
    "  \"\"\"\n",
    "  Returns a phrase\n",
    "  \n",
    "  Parameters\n",
    "  ----------\n",
    "  dataset: dat\n",
    "  num: num\n",
    "  phrase_col: str\n",
    "    \n",
    "  Return\n",
    "  ------\n",
    "  full_phrase: str\n",
    "  \"\"\"\n",
    "  \n",
    "  # Step 1: Setup the intro line\n",
    "  # convert \"1\" to \"first\" etc.\n",
    "  num_word = num2words(num, to='ordinal')\n",
    "  intro = \"On the \" + num_word + \" day of Christmas, my true love sent to me:\"\n",
    "  \n",
    "  # Step 2: Sing the gift phrases\n",
    "  # Hint: What order are they gifts sung in each day?\n",
    "  #store gifts str\n",
    "  gifts = \"\"\n",
    "  #heres where it makes it so you don't even need the phrase col :)\n",
    "  #use .head so it only stores the desired amount of days\n",
    "  gifts = gifts + dataset.head(num).apply(lambda x: make_phrase(x['Day'], x['Day.in.Words'], x['Gift.Item'], x['Verb'], x['Adjective'], x['Location']), axis = 1)\n",
    "  \n",
    "  #reverse gifts order\n",
    "  #refrenced chat GPT\n",
    "  gifts_reverse = list(reversed(gifts))\n",
    "\n",
    "  # Step 3: Put it all together and return\n",
    "  #store song outside\n",
    "  song = intro\n",
    "  for i in range(num):\n",
    "    #checks if its the last line to add the and\n",
    "    if(i == num - 1):\n",
    "      #line for last line of song\n",
    "      song = song + \"\\n\" + \"and \" + gifts_reverse[i] + \".\"\n",
    "    else:\n",
    "      #line for every other line except first and last\n",
    "      song = song + \"\\n\" + gifts_reverse[i] + \",\"\n",
    "\n",
    "  return(song)"
   ]
  },
  {
   "cell_type": "code",
   "execution_count": 14,
   "metadata": {},
   "outputs": [
    {
     "name": "stdout",
     "output_type": "stream",
     "text": [
      "On the tenth day of Christmas, my true love sent to me:\n",
      "Ten lords a leaping,\n",
      "Nine ladies dancing,\n",
      "Eight maids a milking,\n",
      "Seven swans a swimming,\n",
      "Six geese a laying,\n",
      "Five golden rings,\n",
      "Four calling birds,\n",
      "Three french hens,\n",
      "Two turtle doves,\n",
      "and a partridge in a pear tree.\n",
      "On the tenth day of Christmas, my true love sent to me:\n",
      "Ten lords a leaping,\n",
      "Nine ladies dancing,\n",
      "Eight maids a milking,\n",
      "Seven swans a swimming,\n",
      "Six geese a laying,\n",
      "Five golden rings,\n",
      "Four calling birds,\n",
      "Three french hens,\n",
      "Two turtle doves,\n",
      "and a partridge in a pear tree.\n"
     ]
    }
   ],
   "source": [
    "#unit test 1, works\n",
    "test2 = sing_day_improved(xmas, 10)\n",
    "\n",
    "print(test2)"
   ]
  },
  {
   "cell_type": "code",
   "execution_count": 15,
   "metadata": {},
   "outputs": [
    {
     "name": "stdout",
     "output_type": "stream",
     "text": [
      "On the tenth day of Christmas, my true love sent to me:\n",
      "Ten loads of laundry,\n",
      "Nine parties bumping,\n",
      "Eight moms a calling,\n",
      "Seven seniors stressing,\n",
      "Six graders grading,\n",
      "Five practice exams,\n",
      "Four course reviews,\n",
      "Three lost pens,\n",
      "Two meal points,\n",
      "and an email from Cal Poly.\n",
      "On the tenth day of Christmas, my true love sent to me:\n",
      "Ten loads of laundry,\n",
      "Nine parties bumping,\n",
      "Eight moms a calling,\n",
      "Seven seniors stressing,\n",
      "Six graders grading,\n",
      "Five practice exams,\n",
      "Four course reviews,\n",
      "Three lost pens,\n",
      "Two meal points,\n",
      "and an email from Cal Poly.\n"
     ]
    }
   ],
   "source": [
    "#unit test 2 using xmas2 dataset, works\n",
    "xmas2 = pd.read_csv(\"https://www.dropbox.com/scl/fi/p9x9k8xwuzs9rhp582vfy/xmas_2.csv?rlkey=kvc3j3lmyn4opcidsrhcmrof1&dl=1\")\n",
    "\n",
    "test3 = sing_day_improved(xmas2, 10)\n",
    "\n",
    "print(test3)"
   ]
  }
 ],
 "metadata": {
  "language_info": {
   "name": "python"
  }
 },
 "nbformat": 4,
 "nbformat_minor": 2
}
