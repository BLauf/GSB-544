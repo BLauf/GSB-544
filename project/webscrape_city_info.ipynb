{
 "cells": [
  {
   "cell_type": "code",
   "execution_count": 2,
   "metadata": {},
   "outputs": [],
   "source": [
    "#libraries\n",
    "import pandas as pd\n",
    "import requests\n",
    "from bs4 import BeautifulSoup"
   ]
  },
  {
   "cell_type": "markdown",
   "metadata": {},
   "source": [
    "Webscrape info for each city. Make sure to also scrape for other populated cities in spain.\n",
    "\n",
    "Current Cities:\n",
    "* Barcelona\n",
    "* Madrid\n",
    "* Seville\n",
    "* Valencia\n",
    "\n",
    "New Cities\n",
    "* Vigo\n",
    "* Malaga\n",
    "\n",
    "Variable List\n",
    "* Population: https://worldpopulationreview.com/cities/spain\n",
    "* Living Cost: https://www.numbeo.com/cost-of-living/country_result.jsp?country=Spain\n"
   ]
  },
  {
   "cell_type": "markdown",
   "metadata": {},
   "source": [
    "**Webscraping Population for each city**"
   ]
  },
  {
   "cell_type": "code",
   "execution_count": 4,
   "metadata": {},
   "outputs": [],
   "source": [
    "#requests\n",
    "pop_response = requests.get(\"https://worldpopulationreview.com/cities/spain\")\n",
    "\n",
    "#soup\n",
    "pop_soup = BeautifulSoup(pop_response.content, \"html.parser\")"
   ]
  },
  {
   "cell_type": "code",
   "execution_count": 12,
   "metadata": {},
   "outputs": [],
   "source": [
    "pop_table = pop_soup.find(\"table\",\n",
    "                    attrs={\n",
    "                      \"class\": \"wpr-table !border-none\"}\n",
    "                  )\n",
    "\n",
    "#check to see its only 1 table\n",
    "#len(pop_table)"
   ]
  },
  {
   "cell_type": "code",
   "execution_count": 21,
   "metadata": {},
   "outputs": [],
   "source": [
    "# initialize an empty list\n",
    "rows = []\n",
    "\n",
    "# iterate over all rows in the city table\n",
    "#we do 1: b/c there is only 1 header row in this data\n",
    "for city in pop_table.find_all(\"tr\")[1:]:\n",
    "\n",
    "    # Get all the cells (<td>) in the row.\n",
    "    cities = city.find_all(\"th\")\n",
    "    pops = city.find_all(\"td\")\n",
    "    \n",
    "    # can just look at table and see what obs we want along and pick that indexes b/c its in a weirdish order\n",
    "    city_tag = cities[0]\n",
    "    city_value = city_tag.text.strip()\n",
    "\n",
    "    #find # stores in 2024\n",
    "    population_tag = pops[0]\n",
    "    population_value = population_tag.text.strip()\n",
    "\n",
    "\n",
    "    # Append this data.\n",
    "    rows.append({\n",
    "            \"city\": city_value,\n",
    "            \"population\": population_value\n",
    "            #\"census_2010\": census_2010\n",
    "     })\n",
    "\n",
    "\n",
    "pop_df = pd.DataFrame(rows)"
   ]
  },
  {
   "cell_type": "markdown",
   "metadata": {},
   "source": [
    "**Webscraping Living Cost for each city**"
   ]
  },
  {
   "cell_type": "code",
   "execution_count": 34,
   "metadata": {},
   "outputs": [],
   "source": [
    "#requests\n",
    "liv_response = requests.get(\"https://www.numbeo.com/cost-of-living/country_result.jsp?country=Spain\")\n",
    "\n",
    "#soup\n",
    "liv_soup = BeautifulSoup(liv_response.content, \"html.parser\")"
   ]
  },
  {
   "cell_type": "code",
   "execution_count": 39,
   "metadata": {},
   "outputs": [
    {
     "data": {
      "text/plain": [
       "5"
      ]
     },
     "execution_count": null,
     "metadata": {},
     "output_type": "execute_result"
    }
   ],
   "source": [
    "liv_table = liv_soup.find(\"table\",\n",
    "                    attrs={\n",
    "                      \"id\": \"t2\"}\n",
    "                  )\n",
    "\n",
    "#check to see its only 1 table\n",
    "len(liv_table)\n"
   ]
  },
  {
   "cell_type": "code",
   "execution_count": 49,
   "metadata": {},
   "outputs": [],
   "source": [
    "# initialize an empty list\n",
    "rows = []\n",
    "\n",
    "# iterate over all rows in the city table\n",
    "#we do 1: b/c there is only 1 header row in this data\n",
    "for city in liv_table.find_all(\"tr\")[1:]:\n",
    "\n",
    "    # Get all the cells (<td>) in the row.\n",
    "    cells = city.find_all(\"td\")\n",
    "    \n",
    "    # can just look at table and see what obs we want along and pick that indexes b/c its in a weirdish order\n",
    "    city_tag = cells[1]\n",
    "    city_value = city_tag.text.strip()\n",
    "\n",
    "    #cost of living index\n",
    "    living_index_tag = cells[2]\n",
    "    living_index_value = living_index_tag.text.strip()\n",
    "\n",
    "    #rent index\n",
    "    rent_index_tag = cells[3]\n",
    "    rent_index_value = rent_index_tag.text.strip()\n",
    "\n",
    "    #cost of living + rent index\n",
    "    living_plus_rent_index_tag = cells[4]\n",
    "    living_plus_rent_index_value = living_plus_rent_index_tag.text.strip()\n",
    "\n",
    "    #groceries index\n",
    "    groceries_index_tag = cells[5]\n",
    "    groceries_index_value = groceries_index_tag.text.strip()\n",
    "\n",
    "    #restuarant price index\n",
    "    restuarant_index_tag = cells[6]\n",
    "    restuarant_index_value = restuarant_index_tag.text.strip()\n",
    "\n",
    "    #local purchasing power index\n",
    "    local_purchase_power_index_tag = cells[7]\n",
    "    local_purchase_power_index_value = local_purchase_power_index_tag.text.strip()\n",
    "\n",
    "    # Append this data.\n",
    "    rows.append({\n",
    "            \"city\": city_value,\n",
    "            \"cost_of_living_index\": living_index_value,\n",
    "            \"rent_index\": rent_index_value,\n",
    "            \"living_plus_rent_index\": living_plus_rent_index_value,\n",
    "            \"groceries_index\": groceries_index_value,\n",
    "            \"restuarant_index\": restuarant_index_value,\n",
    "            \"local_purchasing_power_index\": local_purchase_power_index_value\n",
    "     })\n",
    "\n",
    "\n",
    "liv_df = pd.DataFrame(rows)"
   ]
  },
  {
   "cell_type": "code",
   "execution_count": 50,
   "metadata": {},
   "outputs": [
    {
     "name": "stderr",
     "output_type": "stream",
     "text": [
      "<positron-console-cell-50>:2: FutureWarning: ChainedAssignmentError: behaviour will change in pandas 3.0!\n",
      "You are setting values through chained assignment. Currently this works in certain cases, but when using Copy-on-Write (which will become the default behaviour in pandas 3.0) this will never work to update the original DataFrame or Series, because the intermediate object on which we are setting values will behave as a copy.\n",
      "A typical example is when you are setting values in a column of a DataFrame, like:\n",
      "\n",
      "df[\"col\"][row_indexer] = value\n",
      "\n",
      "Use `df.loc[row_indexer, \"col\"] = values` instead, to perform the assignment in a single step and ensure this keeps updating the original `df`.\n",
      "\n",
      "See the caveats in the documentation: https://pandas.pydata.org/pandas-docs/stable/user_guide/indexing.html#returning-a-view-versus-a-copy\n",
      "\n"
     ]
    }
   ],
   "source": [
    "#final tweaks to make sure the dataset matches based on city name\n",
    "liv_df['city'][3] = 'Sevilla'"
   ]
  },
  {
   "cell_type": "code",
   "execution_count": 51,
   "metadata": {},
   "outputs": [],
   "source": [
    "#merge datasets\n",
    "final_df = pd.merge(pop_df, liv_df, how='inner', on=['city'])\n"
   ]
  },
  {
   "cell_type": "code",
   "execution_count": 59,
   "metadata": {},
   "outputs": [
    {
     "name": "stderr",
     "output_type": "stream",
     "text": [
      "<positron-console-cell-59>:5: FutureWarning: ChainedAssignmentError: behaviour will change in pandas 3.0!\n",
      "You are setting values through chained assignment. Currently this works in certain cases, but when using Copy-on-Write (which will become the default behaviour in pandas 3.0) this will never work to update the original DataFrame or Series, because the intermediate object on which we are setting values will behave as a copy.\n",
      "A typical example is when you are setting values in a column of a DataFrame, like:\n",
      "\n",
      "df[\"col\"][row_indexer] = value\n",
      "\n",
      "Use `df.loc[row_indexer, \"col\"] = values` instead, to perform the assignment in a single step and ensure this keeps updating the original `df`.\n",
      "\n",
      "See the caveats in the documentation: https://pandas.pydata.org/pandas-docs/stable/user_guide/indexing.html#returning-a-view-versus-a-copy\n",
      "\n",
      "<positron-console-cell-59>:5: SettingWithCopyWarning: \n",
      "A value is trying to be set on a copy of a slice from a DataFrame\n",
      "\n",
      "See the caveats in the documentation: https://pandas.pydata.org/pandas-docs/stable/user_guide/indexing.html#returning-a-view-versus-a-copy\n",
      "<positron-console-cell-59>:5: FutureWarning: ChainedAssignmentError: behaviour will change in pandas 3.0!\n",
      "You are setting values through chained assignment. Currently this works in certain cases, but when using Copy-on-Write (which will become the default behaviour in pandas 3.0) this will never work to update the original DataFrame or Series, because the intermediate object on which we are setting values will behave as a copy.\n",
      "A typical example is when you are setting values in a column of a DataFrame, like:\n",
      "\n",
      "df[\"col\"][row_indexer] = value\n",
      "\n",
      "Use `df.loc[row_indexer, \"col\"] = values` instead, to perform the assignment in a single step and ensure this keeps updating the original `df`.\n",
      "\n",
      "See the caveats in the documentation: https://pandas.pydata.org/pandas-docs/stable/user_guide/indexing.html#returning-a-view-versus-a-copy\n",
      "\n",
      "<positron-console-cell-59>:5: SettingWithCopyWarning: \n",
      "A value is trying to be set on a copy of a slice from a DataFrame\n",
      "\n",
      "See the caveats in the documentation: https://pandas.pydata.org/pandas-docs/stable/user_guide/indexing.html#returning-a-view-versus-a-copy\n",
      "<positron-console-cell-59>:5: FutureWarning: ChainedAssignmentError: behaviour will change in pandas 3.0!\n",
      "You are setting values through chained assignment. Currently this works in certain cases, but when using Copy-on-Write (which will become the default behaviour in pandas 3.0) this will never work to update the original DataFrame or Series, because the intermediate object on which we are setting values will behave as a copy.\n",
      "A typical example is when you are setting values in a column of a DataFrame, like:\n",
      "\n",
      "df[\"col\"][row_indexer] = value\n",
      "\n",
      "Use `df.loc[row_indexer, \"col\"] = values` instead, to perform the assignment in a single step and ensure this keeps updating the original `df`.\n",
      "\n",
      "See the caveats in the documentation: https://pandas.pydata.org/pandas-docs/stable/user_guide/indexing.html#returning-a-view-versus-a-copy\n",
      "\n",
      "<positron-console-cell-59>:5: SettingWithCopyWarning: \n",
      "A value is trying to be set on a copy of a slice from a DataFrame\n",
      "\n",
      "See the caveats in the documentation: https://pandas.pydata.org/pandas-docs/stable/user_guide/indexing.html#returning-a-view-versus-a-copy\n",
      "<positron-console-cell-59>:5: FutureWarning: ChainedAssignmentError: behaviour will change in pandas 3.0!\n",
      "You are setting values through chained assignment. Currently this works in certain cases, but when using Copy-on-Write (which will become the default behaviour in pandas 3.0) this will never work to update the original DataFrame or Series, because the intermediate object on which we are setting values will behave as a copy.\n",
      "A typical example is when you are setting values in a column of a DataFrame, like:\n",
      "\n",
      "df[\"col\"][row_indexer] = value\n",
      "\n",
      "Use `df.loc[row_indexer, \"col\"] = values` instead, to perform the assignment in a single step and ensure this keeps updating the original `df`.\n",
      "\n",
      "See the caveats in the documentation: https://pandas.pydata.org/pandas-docs/stable/user_guide/indexing.html#returning-a-view-versus-a-copy\n",
      "\n",
      "<positron-console-cell-59>:5: SettingWithCopyWarning: \n",
      "A value is trying to be set on a copy of a slice from a DataFrame\n",
      "\n",
      "See the caveats in the documentation: https://pandas.pydata.org/pandas-docs/stable/user_guide/indexing.html#returning-a-view-versus-a-copy\n",
      "<positron-console-cell-59>:5: FutureWarning: ChainedAssignmentError: behaviour will change in pandas 3.0!\n",
      "You are setting values through chained assignment. Currently this works in certain cases, but when using Copy-on-Write (which will become the default behaviour in pandas 3.0) this will never work to update the original DataFrame or Series, because the intermediate object on which we are setting values will behave as a copy.\n",
      "A typical example is when you are setting values in a column of a DataFrame, like:\n",
      "\n",
      "df[\"col\"][row_indexer] = value\n",
      "\n",
      "Use `df.loc[row_indexer, \"col\"] = values` instead, to perform the assignment in a single step and ensure this keeps updating the original `df`.\n",
      "\n",
      "See the caveats in the documentation: https://pandas.pydata.org/pandas-docs/stable/user_guide/indexing.html#returning-a-view-versus-a-copy\n",
      "\n",
      "<positron-console-cell-59>:5: SettingWithCopyWarning: \n",
      "A value is trying to be set on a copy of a slice from a DataFrame\n",
      "\n",
      "See the caveats in the documentation: https://pandas.pydata.org/pandas-docs/stable/user_guide/indexing.html#returning-a-view-versus-a-copy\n",
      "<positron-console-cell-59>:5: FutureWarning: ChainedAssignmentError: behaviour will change in pandas 3.0!\n",
      "You are setting values through chained assignment. Currently this works in certain cases, but when using Copy-on-Write (which will become the default behaviour in pandas 3.0) this will never work to update the original DataFrame or Series, because the intermediate object on which we are setting values will behave as a copy.\n",
      "A typical example is when you are setting values in a column of a DataFrame, like:\n",
      "\n",
      "df[\"col\"][row_indexer] = value\n",
      "\n",
      "Use `df.loc[row_indexer, \"col\"] = values` instead, to perform the assignment in a single step and ensure this keeps updating the original `df`.\n",
      "\n",
      "See the caveats in the documentation: https://pandas.pydata.org/pandas-docs/stable/user_guide/indexing.html#returning-a-view-versus-a-copy\n",
      "\n",
      "<positron-console-cell-59>:5: SettingWithCopyWarning: \n",
      "A value is trying to be set on a copy of a slice from a DataFrame\n",
      "\n",
      "See the caveats in the documentation: https://pandas.pydata.org/pandas-docs/stable/user_guide/indexing.html#returning-a-view-versus-a-copy\n"
     ]
    }
   ],
   "source": [
    "#convert all numeric variables to numeric:\n",
    "\n",
    "#population variable\n",
    "for i in range(len(final_df)):\n",
    "   final_df['population'][i] = final_df['population'][i].replace(\",\", \"\")\n",
    "\n",
    "final_df['population'] = pd.to_numeric(final_df['population'])\n",
    "\n",
    "#all other variables\n",
    "final_df['cost_of_living_index'] = pd.to_numeric(final_df['cost_of_living_index'])\n",
    "final_df['rent_index'] = pd.to_numeric(final_df['rent_index'])\n",
    "final_df['living_plus_rent_index'] = pd.to_numeric(final_df['living_plus_rent_index'])\n",
    "final_df['groceries_index'] = pd.to_numeric(final_df['groceries_index'])\n",
    "final_df['restuarant_index'] = pd.to_numeric(final_df['restuarant_index'])\n",
    "final_df['local_purchasing_power_index'] = pd.to_numeric(final_df['local_purchasing_power_index'])\n",
    "\n",
    "\n"
   ]
  }
 ],
 "metadata": {
  "language_info": {
   "name": "python"
  }
 },
 "nbformat": 4,
 "nbformat_minor": 2
}
