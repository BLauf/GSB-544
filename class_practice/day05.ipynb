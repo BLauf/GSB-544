{
 "cells": [
  {
   "cell_type": "code",
   "execution_count": 11,
   "metadata": {},
   "outputs": [
    {
     "ename": "ModuleNotFoundError",
     "evalue": "No module named 'palmerpenguins'",
     "output_type": "error",
     "traceback": [
      "\u001b[0;31m---------------------------------------------------------------------------\u001b[0m\n",
      "\u001b[0;31mModuleNotFoundError\u001b[0m                       Traceback (most recent call last)\n",
      "Cell \u001b[0;32mIn[11], line 4\u001b[0m\n",
      "\u001b[1;32m      1\u001b[0m \u001b[38;5;28;01mimport\u001b[39;00m \u001b[38;5;21;01mpandas\u001b[39;00m \u001b[38;5;28;01mas\u001b[39;00m \u001b[38;5;21;01mpd\u001b[39;00m\n",
      "\u001b[1;32m      2\u001b[0m \u001b[38;5;66;03m#pip install pandas\u001b[39;00m\n",
      "\u001b[0;32m----> 4\u001b[0m \u001b[38;5;28;01mfrom\u001b[39;00m \u001b[38;5;21;01mpalmerpenguins\u001b[39;00m \u001b[38;5;28;01mimport\u001b[39;00m load_penguins\n",
      "\n",
      "\u001b[0;31mModuleNotFoundError\u001b[0m: No module named 'palmerpenguins'"
     ]
    }
   ],
   "source": [
    "import pandas as pd\n",
    "#pip install pandas\n",
    "\n",
    "from palmerpenguins import load_penguins"
   ]
  },
  {
   "cell_type": "code",
   "execution_count": 1,
   "metadata": {},
   "outputs": [],
   "source": [
    "def rescale_vector(vec):\n",
    "  \n",
    "  \"\"\"\n",
    "  Rescales a numeric vector to have a max of 1 and min of 0\n",
    "  \n",
    "  Parameter\n",
    "  ---------\n",
    "  vec : num\n",
    "    A list, numpy array, or pandas Series of numeric data.\n",
    "\n",
    "  Returns\n",
    "  -------\n",
    "  array \n",
    "    A numpy array containing the rescaled values.\n",
    "  \"\"\"\n",
    "  \n",
    "  min_vec = min(vec)\n",
    "  max_vec = max(vec)\n",
    "  \n",
    "  rescaled_vec = (vec - min_vec)/(max_vec - min_vec)\n",
    "  \n",
    "  return rescaled_vec"
   ]
  },
  {
   "cell_type": "code",
   "execution_count": 2,
   "metadata": {},
   "outputs": [],
   "source": [
    "help(rescale_vector)"
   ]
  },
  {
   "cell_type": "code",
   "execution_count": 8,
   "metadata": {},
   "outputs": [
    {
     "ename": "NameError",
     "evalue": "name 'load_penguins' is not defined",
     "output_type": "error",
     "traceback": [
      "\u001b[0;31m---------------------------------------------------------------------------\u001b[0m\n",
      "\u001b[0;31mNameError\u001b[0m                                 Traceback (most recent call last)\n",
      "Cell \u001b[0;32mIn[8], line 1\u001b[0m\n",
      "\u001b[0;32m----> 1\u001b[0m penguins \u001b[38;5;241m=\u001b[39m load_penguins()\n",
      "\u001b[1;32m      3\u001b[0m \u001b[38;5;28;01mdef\u001b[39;00m \u001b[38;5;21mplot_my_data\u001b[39m(cat_var):\n",
      "\u001b[1;32m      5\u001b[0m   plot \u001b[38;5;241m=\u001b[39m (ggplot(penguins, aes(x \u001b[38;5;241m=\u001b[39m cat_var)) \u001b[38;5;241m+\u001b[39m geom_bar())\n",
      "\n",
      "\u001b[0;31mNameError\u001b[0m: name 'load_penguins' is not defined"
     ]
    }
   ],
   "source": [
    "penguins = load_penguins()\n",
    "\n",
    "def plot_my_data(cat_var):\n",
    "  \n",
    "  plot = (ggplot(penguins, aes(x = cat_var)) + geom_bar())\n",
    "  \n",
    "  return plot\n",
    "  \n",
    "  \n",
    "plot_my_data('species')"
   ]
  }
 ],
 "metadata": {
  "language_info": {
   "name": "python"
  }
 },
 "nbformat": 4,
 "nbformat_minor": 2
}
