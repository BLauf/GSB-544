{
 "cells": [
  {
   "cell_type": "code",
   "execution_count": null,
   "metadata": {},
   "outputs": [],
   "source": [
    "#string functions:\n",
    "\n",
    "#.upper() - capitalize string\n",
    "#.lower() - all lowercase\n",
    "#.strip() - removes trailing and previous spaces\n",
    "#.title() - caps like title\n",
    "#.find() - how many characters till finds where string is loc (returns -1 if no string is found)\n",
    "#.replace(\"x\", \"y\") - replaces every instance of x with y\n",
    "\n",
    "# {} can be used to enter a string into somewhere of stored value\n",
    "# can label inside {} to assign specific case\n",
    "\n",
    "#.split() can split words into a list by a specific character (like ,)\n",
    "#.join() joins two lists\n",
    "\n",
    "\n"
   ]
  },
  {
   "cell_type": "code",
   "execution_count": 17,
   "metadata": {},
   "outputs": [
    {
     "data": {
      "text/plain": [
       "'4 cup of beer on the wall \\n 4 cup of beer \\n take one down, pass it around, \\n'"
      ]
     },
     "execution_count": null,
     "metadata": {},
     "output_type": "execute_result"
    }
   ],
   "source": [
    "#ex using {}\n",
    "def sing_verse_3(num, drink, container):\n",
    "\n",
    "  number = str(num)\n",
    "  song = \"{number} {container} of {drink} on the wall \\n {number} {container} of {drink} \\n take one down, pass it around, \\n\"\n",
    "  #make sure to store the change\n",
    "  song = song.format(number = num, drink = drink, container = container)\n",
    "  \n",
    "  return song\n",
    "\n",
    "#test\n",
    "sing_verse_3(4, \"beer\", \"cup\")\n"
   ]
  },
  {
   "cell_type": "code",
   "execution_count": 20,
   "metadata": {},
   "outputs": [
    {
     "data": {
      "text/plain": [
       "['Moses', 'roses', 'Moses', 'Moses', 'roses', 'Moses']"
      ]
     },
     "execution_count": null,
     "metadata": {},
     "output_type": "execute_result"
    }
   ],
   "source": [
    "#regular expression (new object type)\n",
    "#set of instructions of how to find strings that are similiar\n",
    "\n",
    "moses_string = \"Moses supposes his toeses are roses, but Moses supposes erroneously.  Moses he knowses his toeses aren't roses, as Moses supposes his toeses to be.\"\n",
    "\n",
    "import re\n",
    "re.findall(r\"[Mr]oses\", moses_string)\n",
    "#match either M or r with oses (caps sensitive)\n",
    "\n",
    "#shortcuts\n",
    "#\\w match any character that might be followed by woses\n",
    "re.findall(r\"\\woses\", moses_string)\n",
    "\n",
    "#\\b: “boundary” between word and non-word, such as punctuation or whitespace\n",
    "\n",
    "#\\s : “space” matches a single whitespace character\n",
    "\n",
    "#\\d : “digit” matches any single number 0-9\n",
    "\n",
    "#^ : matches the start of a string\n",
    "\n",
    "#$ : matches the end of a string\n",
    "\n",
    "#. : matches any character at all, except a new line (\\n)"
   ]
  },
  {
   "cell_type": "code",
   "execution_count": 54,
   "metadata": {},
   "outputs": [
    {
     "name": "stderr",
     "output_type": "stream",
     "text": [
      "<positron-console-cell-54>:12: SyntaxWarning: invalid escape sequence '\\s'\n"
     ]
    },
    {
     "data": {
      "text/plain": [
       "[' P',\n",
       " ' p',\n",
       " ' p',\n",
       " ' p',\n",
       " ' p',\n",
       " ' p',\n",
       " ' p',\n",
       " ' p',\n",
       " ' P',\n",
       " ' P',\n",
       " ' p',\n",
       " ' P',\n",
       " ' P',\n",
       " ' p',\n",
       " ' p',\n",
       " ' p',\n",
       " ' p',\n",
       " ' p',\n",
       " ' p',\n",
       " ' p',\n",
       " ' P',\n",
       " ' P',\n",
       " ' p']"
      ]
     },
     "execution_count": null,
     "metadata": {},
     "output_type": "execute_result"
    }
   ],
   "source": [
    "nursery_rhyme = \"Peter Piper picked a peck of pickled peppers, A peck of pickled peppers Peter Piper picked; If Peter Piper picked a peck of pickled peppers, Where’s the peck of pickled peppers Peter Piper picked?\"\n",
    "\n",
    "#turns string into list\n",
    "words = re.split(r\"\\b \", nursery_rhyme)\n",
    "#if you do \\s you will miss the first word of the string\n",
    "words\n",
    "\n",
    "#maps: looks for Pp for each word to words list\n",
    "list(map(lambda x: re.findall(\"^[Pp]\", x), words))\n",
    "\n",
    "#or\n",
    "\n",
    "re.findall(\"\\s[Pp]\", nursery_rhyme)"
   ]
  },
  {
   "cell_type": "code",
   "execution_count": 55,
   "metadata": {},
   "outputs": [
    {
     "data": {
      "text/plain": [
       "['Kely', 'Kelly', 'Kellly', 'Kelllly']"
      ]
     },
     "execution_count": null,
     "metadata": {},
     "output_type": "execute_result"
    }
   ],
   "source": [
    "#repitition \n",
    "\n",
    "names = \"Key, Kely, Kelly, Kellly, Kelllly\"\n",
    "re.findall(r\"Kel+y\", names)\n",
    "\n",
    "#Other regex symbols for repetition are:\n",
    "\n",
    "#* : Match 0 or more of the previous character\n",
    "re.findall(r\"Kel*y\", names)\n",
    "#? : Match 0 or one of the previous character\n",
    "re.findall(r\"Kel?y\", names)\n",
    "#{2} : Match exactly two of the previous character\n",
    "re.findall(r\"Kel{2}y\", names)\n",
    "#{1,3}: Match 1 to 3 repeats of the previous character\n",
    "re.findall(r\"Kel{2,3}y\", names)"
   ]
  },
  {
   "cell_type": "code",
   "execution_count": 62,
   "metadata": {},
   "outputs": [
    {
     "data": {
      "text/plain": [
       "['Moses',\n",
       " 'supposes',\n",
       " 'toeses',\n",
       " 'roses',\n",
       " 'Moses',\n",
       " 'supposes',\n",
       " 'Moses',\n",
       " 'knowses',\n",
       " 'toeses',\n",
       " 'roses',\n",
       " 'Moses',\n",
       " 'supposes',\n",
       " 'toeses']"
      ]
     },
     "execution_count": null,
     "metadata": {},
     "output_type": "execute_result"
    }
   ],
   "source": [
    "#Return to the Peter Piper example in the previous check-in.\n",
    "#Instead of finding how many words start with a p, can you extract the words themselves?\n",
    "nursery_rhyme = \"Peter Piper picked a peck of pickled peppers, A peck of pickled peppers Peter Piper picked; If Peter Piper picked a peck of pickled peppers, Where’s the peck of pickled peppers Peter Piper picked?\"\n",
    "\n",
    "#turns string into list\n",
    "#e? means 0 or many e's following (same with w)\n",
    "words = re.findall(r\"\\w*oe?w?ses\", moses_string)\n",
    "words\n",
    "\n",
    "#Use repetition to find all the rhyming words in the Moses rhyme.\n",
    "#Hint: Don’t forget “toeses”! How can you make the “e” optional, to match “-oses” or “-oeses” or “-owses”?\n",
    "\n",
    "#list(map(lambda x: re.findall(\"to?\", x), words))\n",
    "\n"
   ]
  },
  {
   "cell_type": "code",
   "execution_count": 63,
   "metadata": {},
   "outputs": [
    {
     "data": {
      "text/plain": [
       "['*really*']"
      ]
     },
     "execution_count": null,
     "metadata": {},
     "output_type": "execute_result"
    }
   ],
   "source": [
    "#9.3.3 Escaping special characters\n",
    "\n",
    "string_5 = \"Are you *really* happy?\"\n",
    "re.findall(r\"\\*\\w+\\*\", string_5) "
   ]
  }
 ],
 "metadata": {
  "language_info": {
   "name": "python"
  }
 },
 "nbformat": 4,
 "nbformat_minor": 2
}
