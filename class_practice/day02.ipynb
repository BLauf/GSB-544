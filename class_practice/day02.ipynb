{
 "cells": [
  {
   "cell_type": "code",
   "execution_count": 16,
   "metadata": {},
   "outputs": [],
   "source": [
    "logical = False\n",
    "integer = 3\n",
    "decimal = 3.566\n",
    "string = \"Hello\"\n"
   ]
  },
  {
   "cell_type": "code",
   "execution_count": 17,
   "metadata": {},
   "outputs": [
    {
     "data": {
      "text/plain": [
       "float"
      ]
     },
     "execution_count": null,
     "metadata": {},
     "output_type": "execute_result"
    }
   ],
   "source": [
    "#type using logical\n",
    "\n",
    "#int\n",
    "type(logical + integer)\n",
    "\n",
    "#float\n",
    "type(logical + decimal)\n",
    "\n",
    "#error\n",
    "#type(logical + string)"
   ]
  },
  {
   "cell_type": "code",
   "execution_count": 18,
   "metadata": {},
   "outputs": [
    {
     "data": {
      "text/plain": [
       "float"
      ]
     },
     "execution_count": null,
     "metadata": {},
     "output_type": "execute_result"
    }
   ],
   "source": [
    "#type using integer\n",
    "\n",
    "#float\n",
    "type(integer + decimal)\n",
    "\n",
    "#error\n",
    "#type(integer + string)\n"
   ]
  },
  {
   "cell_type": "code",
   "execution_count": 19,
   "metadata": {},
   "outputs": [],
   "source": [
    "#type using decimal\n",
    "\n",
    "#error\n",
    "#type(decimal + string)"
   ]
  },
  {
   "cell_type": "code",
   "execution_count": 20,
   "metadata": {},
   "outputs": [
    {
     "data": {
      "text/plain": [
       "'False'"
      ]
     },
     "execution_count": null,
     "metadata": {},
     "output_type": "execute_result"
    }
   ],
   "source": [
    "#to force types\n",
    "str(logical)\n",
    "\n",
    "#or\n",
    "#numeric(logical)"
   ]
  },
  {
   "cell_type": "code",
   "execution_count": 21,
   "metadata": {},
   "outputs": [
    {
     "name": "stderr",
     "output_type": "stream",
     "text": [
      "<positron-console-cell-21>:3: DeprecationWarning: Bitwise inversion '~' on bool is deprecated. This returns the bitwise inversion of the underlying int object and is usually not what you expect from negating a bool. Use the 'not' operator for boolean negation or ~int(x) if you really want the bitwise inversion of the underlying int.\n"
     ]
    },
    {
     "data": {
      "text/plain": [
       "1"
      ]
     },
     "execution_count": null,
     "metadata": {},
     "output_type": "execute_result"
    }
   ],
   "source": [
    "logical_true = True\n",
    "\n",
    "integer + ~logical_true\n",
    "\n",
    "#~ turns it into a number?"
   ]
  },
  {
   "cell_type": "code",
   "execution_count": 22,
   "metadata": {},
   "outputs": [],
   "source": [
    "#math symbols\n",
    "#exponential is **"
   ]
  },
  {
   "cell_type": "code",
   "execution_count": 23,
   "metadata": {},
   "outputs": [
    {
     "data": {
      "text/plain": [
       "4"
      ]
     },
     "execution_count": null,
     "metadata": {},
     "output_type": "execute_result"
    }
   ],
   "source": [
    "#function\n",
    "#ex: round()\n",
    "round(decimal, ndigits = None)"
   ]
  },
  {
   "cell_type": "code",
   "execution_count": 24,
   "metadata": {},
   "outputs": [
    {
     "data": {
      "text/plain": [
       "[1, 2, 3, 4, 5]"
      ]
     },
     "execution_count": null,
     "metadata": {},
     "output_type": "execute_result"
    }
   ],
   "source": [
    "#method ~ basically function, but usually designed for one object structure\n",
    "#ex: sort()\n",
    "my_nums = [1,3,2,4,5]\n",
    "#sorts list\n",
    "my_nums.sort()\n",
    "my_nums\n",
    "\n",
    "#but this will give us an error b/c round is a function NOT a method\n",
    "#my_nums.round()"
   ]
  },
  {
   "cell_type": "code",
   "execution_count": 32,
   "metadata": {},
   "outputs": [
    {
     "data": {
      "text/plain": [
       "[1, 4, 3, 4, 5]"
      ]
     },
     "execution_count": null,
     "metadata": {},
     "output_type": "execute_result"
    }
   ],
   "source": [
    "#extracting elements\n",
    "#arrays not defined? don't need to use arrays though, but why getting error\n",
    "numbers = [1,2,3,4,5]\n",
    "\n",
    "numbers\n",
    "\n",
    "numbers[1] = 4\n",
    "\n",
    "numbers"
   ]
  },
  {
   "cell_type": "code",
   "execution_count": 29,
   "metadata": {},
   "outputs": [],
   "source": [
    "#look at 2.3.2 lesson \n",
    "#week days ex using numpy\n",
    "import pandas as pd\n",
    "#days = array([\"Sunday\", \"Monday\", \"Tuesday\"])\n",
    "#weekend = array([\"Sunday\"])"
   ]
  },
  {
   "cell_type": "code",
   "execution_count": null,
   "metadata": {},
   "outputs": [],
   "source": [
    "#install packages\n",
    "#open terminal and type:\n",
    "# pip install plotnine\n",
    "\n",
    "#then import so that you can refrence them through all your code\n",
    "#for instance\n",
    "import numpy\n",
    "#then you would do numpy.array for ex\n",
    "\n",
    "#use shortcuts for packages for easier access\n",
    "import numpy as np\n",
    "#then you would do np.array for ex\n",
    "\n",
    "#if you want a specific function from a package\n",
    "from numpy import array as np"
   ]
  },
  {
   "cell_type": "code",
   "execution_count": null,
   "metadata": {},
   "outputs": [],
   "source": [
    "#2.5\n",
    "#use pandas to make dataframes\n",
    "#code could look like pd.DataFrame\n",
    "\n",
    "#read more about 2.5 to get more info such as loc[] function"
   ]
  }
 ],
 "metadata": {
  "language_info": {
   "name": "python"
  }
 },
 "nbformat": 4,
 "nbformat_minor": 2
}
