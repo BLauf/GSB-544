{
 "cells": [
  {
   "cell_type": "code",
   "execution_count": null,
   "metadata": {},
   "outputs": [],
   "source": [
    "#libraries\n",
    "import pandas as pd"
   ]
  },
  {
   "cell_type": "code",
   "execution_count": 17,
   "metadata": {},
   "outputs": [],
   "source": [
    "#input only numeric val\n",
    "def sing_version(num):\n",
    "    song = str(num) + \" bottles of beer on the wall \" + str(num) + \" bottles of beer, take one down, pass it around \" + str(num - 1) + \" bottles of beer on the wall\"\n",
    "\n",
    "    return song"
   ]
  },
  {
   "cell_type": "code",
   "execution_count": 26,
   "metadata": {},
   "outputs": [
    {
     "name": "stdout",
     "output_type": "stream",
     "text": [
      "['100 bottles of beer on the wall 100 bottles of beer, take one down, pass it around 99 bottles of beer on the wall', '99 bottles of beer on the wall 99 bottles of beer, take one down, pass it around 98 bottles of beer on the wall', '98 bottles of beer on the wall 98 bottles of beer, take one down, pass it around 97 bottles of beer on the wall']\n",
      "['100 bottles of beer on the wall 100 bottles of beer, take one down, pass it around 99 bottles of beer on the wall', '99 bottles of beer on the wall 99 bottles of beer, take one down, pass it around 98 bottles of beer on the wall', '98 bottles of beer on the wall 98 bottles of beer, take one down, pass it around 97 bottles of beer on the wall']\n"
     ]
    }
   ],
   "source": [
    "#individual value\n",
    "#sing_version(100)\n",
    "\n",
    "#for loop using append\n",
    "song = []\n",
    "\n",
    "for i in range(100, 97, -1):\n",
    "    song.append(sing_version(i))\n",
    "\n",
    "print(song)"
   ]
  }
 ],
 "metadata": {
  "language_info": {
   "name": "python"
  }
 },
 "nbformat": 4,
 "nbformat_minor": 2
}
